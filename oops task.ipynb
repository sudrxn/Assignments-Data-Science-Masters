{
 "cells": [
  {
   "cell_type": "code",
   "execution_count": null,
   "id": "1d802578-3b24-45bd-9a1d-9dc58cd546c3",
   "metadata": {},
   "outputs": [],
   "source": [
    "Q1, Create a vehicle class with an init method having instance variables as name_of_vehicle, max_speed\n",
    "and average_of_vehicle."
   ]
  },
  {
   "cell_type": "code",
   "execution_count": 16,
   "id": "f55f3de0-482e-4b3b-87d5-59e24f3edb40",
   "metadata": {},
   "outputs": [],
   "source": [
    "class vehicle :\n",
    "    def __init__(self,name_of_vehicle,max_speed,average_of_vehicle):\n",
    "        self.name_of_vehicle=name_of_vehicle\n",
    "        self.max_speed= max_speed\n",
    "        self.average_of_vehicle=average_of_vehicle\n",
    "        \n",
    "    def name_of_vehicle(self):\n",
    "        return self.name_of_vehicle()\n",
    "    \n"
   ]
  },
  {
   "cell_type": "code",
   "execution_count": 2,
   "id": "9db6a9f6-96cb-4d62-9205-0144059cbdd5",
   "metadata": {},
   "outputs": [],
   "source": [
    "my_vehicle=vehicle(\"range rover EVOQUE\",300,8)"
   ]
  },
  {
   "cell_type": "code",
   "execution_count": 13,
   "id": "35c8cb2c-dfb9-4143-bd45-26daa7a9794e",
   "metadata": {},
   "outputs": [
    {
     "name": "stdout",
     "output_type": "stream",
     "text": [
      "range rover EVOQUE\n"
     ]
    }
   ],
   "source": [
    "print(my_vehicle.name_of_vehicle)"
   ]
  },
  {
   "cell_type": "code",
   "execution_count": null,
   "id": "a7279d3f-9017-47e3-86e8-d7880560b27b",
   "metadata": {},
   "outputs": [],
   "source": [
    "Q2. Create a child class car from the vehicle class created in Que 1, which will inherit the vehicle class.\n",
    "Create a method named seating_capacity which takes capacity as an argument and returns the name of\n",
    "the vehicle and its seating capacity."
   ]
  },
  {
   "cell_type": "code",
   "execution_count": 39,
   "id": "298ca9b8-8e02-49f3-bb68-9bc5e2b37beb",
   "metadata": {},
   "outputs": [],
   "source": [
    "class vehicle :\n",
    "    def __init__(self,name_of_vehicle,max_speed,average_of_vehicle):\n",
    "        self.name_of_vehicle=name_of_vehicle\n",
    "        self.max_speed= max_speed\n",
    "        self.average_of_vehicle=average_of_vehicle\n",
    "        \n",
    "    def get_vehicle_info(self):\n",
    "        return f\"{self.name_of_vehicle}\"\n",
    "    \n",
    "\n",
    "\n",
    "class car(vehicle):\n",
    "    def seating_capacity(self,capacity):\n",
    "         return f\"{self.get_vehicle_info()} - {capacity} passengers\"\n",
    "        "
   ]
  },
  {
   "cell_type": "code",
   "execution_count": 41,
   "id": "e861f5fb-03c7-448e-bacb-b4dde01a2464",
   "metadata": {},
   "outputs": [
    {
     "name": "stdout",
     "output_type": "stream",
     "text": [
      "evoque - 5 passengers\n"
     ]
    }
   ],
   "source": [
    "\n",
    "my_car = car(\"evoque\", 202, 12)\n",
    "print(my_car.seating_capacity(5))\n"
   ]
  },
  {
   "cell_type": "code",
   "execution_count": null,
   "id": "57c9dc8c-965b-4414-8b94-c47e73ba2f96",
   "metadata": {},
   "outputs": [],
   "source": [
    "Q3. What is multiple inheritance? Write a python code to demonstrate multiple inheritance."
   ]
  },
  {
   "cell_type": "code",
   "execution_count": null,
   "id": "15ad9b7d-0606-45ec-9796-fb09dc5da664",
   "metadata": {},
   "outputs": [],
   "source": [
    "Multiple inheritance is a feature of object-oriented programming languages that allows a class to inherit properties and methods \n",
    "from more than one parent class. In Python, multiple inheritance is achieved by specifying multiple parent classes in the class\n",
    "definition.\n",
    "\n",
    "Here's an example of a Python code demonstrating multiple inheritance:"
   ]
  },
  {
   "cell_type": "code",
   "execution_count": 42,
   "id": "7022c39d-4bc7-4265-bdef-3763fbab1569",
   "metadata": {},
   "outputs": [
    {
     "name": "stdout",
     "output_type": "stream",
     "text": [
      "Bat\n",
      "2\n",
      "False\n",
      "I can fly!\n"
     ]
    }
   ],
   "source": [
    "class Animal:\n",
    "    def __init__(self):\n",
    "        self.legs = 0\n",
    "\n",
    "    def set_legs(self, num_legs):\n",
    "        self.legs = num_legs\n",
    "\n",
    "    def get_legs(self):\n",
    "        return self.legs\n",
    "\n",
    "class Mammal:\n",
    "    def __init__(self):\n",
    "        self.has_hair = True\n",
    "\n",
    "    def set_hair(self, has_hair):\n",
    "        self.has_hair = has_hair\n",
    "\n",
    "    def get_hair(self):\n",
    "        return self.has_hair\n",
    "\n",
    "class Bat(Animal, Mammal):\n",
    "    def __init__(self):\n",
    "        Animal.__init__(self)\n",
    "        Mammal.__init__(self)\n",
    "        self.name = \"Bat\"\n",
    "\n",
    "    def fly(self):\n",
    "        print(\"I can fly!\")\n",
    "\n",
    "bat = Bat()\n",
    "bat.set_legs(2)\n",
    "bat.set_hair(False)\n",
    "\n",
    "print(bat.name)     # Output: Bat\n",
    "print(bat.get_legs())   # Output: 2\n",
    "print(bat.get_hair())   # Output: False\n",
    "bat.fly()   # Output: I can fly!\n"
   ]
  },
  {
   "cell_type": "code",
   "execution_count": null,
   "id": "6765435c-9861-4fe2-87b2-a895b129de3a",
   "metadata": {},
   "outputs": [],
   "source": [
    "Q4. What are getter and setter in python? Create a class and create a getter and a setter method in this\n",
    "class."
   ]
  },
  {
   "cell_type": "code",
   "execution_count": null,
   "id": "9cd7884f-f5f8-4746-9438-d30e2a5aee0d",
   "metadata": {},
   "outputs": [],
   "source": [
    "In Python, getters and setters are methods that allow us to access and modify the private attributes of a class.\n",
    "Getters are methods used to retrieve the value of a private attribute, while setters are methods used to modify the value of\n",
    "a private attribute.\n",
    "\n",
    "Here is an example of a Python class with a private attribute and corresponding getter and setter methods:"
   ]
  },
  {
   "cell_type": "code",
   "execution_count": 43,
   "id": "64cbc7f7-2027-48f9-8c3f-ee933cb42626",
   "metadata": {},
   "outputs": [],
   "source": [
    "class Person:\n",
    "    def __init__(self, name):\n",
    "        self.__name = name\n",
    "        \n",
    "    def get_name(self):\n",
    "        return self.__name\n",
    "    \n",
    "    def set_name(self, name):\n",
    "        self.__name = name\n"
   ]
  },
  {
   "cell_type": "code",
   "execution_count": 44,
   "id": "2dcdd1ad-0448-4b32-a598-ce2be751d250",
   "metadata": {},
   "outputs": [
    {
     "name": "stdout",
     "output_type": "stream",
     "text": [
      "John\n",
      "Jane\n"
     ]
    }
   ],
   "source": [
    "person = Person(\"John\")\n",
    "print(person.get_name())  # Output: John\n",
    "\n",
    "person.set_name(\"Jane\")\n",
    "print(person.get_name())  # Output: Jane\n"
   ]
  },
  {
   "cell_type": "code",
   "execution_count": null,
   "id": "96c7d67f-07e4-4a6b-b1ba-e01c62c3b85a",
   "metadata": {},
   "outputs": [],
   "source": [
    "Q5.What is method overriding in python? Write a python code to demonstrate method overriding."
   ]
  },
  {
   "cell_type": "code",
   "execution_count": null,
   "id": "2029144b-21c7-4065-8a42-3f25056d2c8c",
   "metadata": {},
   "outputs": [],
   "source": [
    "A component of object-oriented programming called method overriding allows a subclass to declare its own implementation of \n",
    "a method that is already defined in its superclass. The implementation from the subclass is utilised in place of the \n",
    "implementation from the superclass when a method is called on an instance of the subclass."
   ]
  },
  {
   "cell_type": "code",
   "execution_count": 45,
   "id": "de9c889c-5e5a-48d1-8e43-456fc237bd6c",
   "metadata": {},
   "outputs": [
    {
     "name": "stdout",
     "output_type": "stream",
     "text": [
      "Animal speaks\n",
      "Dog barks\n"
     ]
    }
   ],
   "source": [
    "class Animal:\n",
    "    def speak(self):\n",
    "        print(\"Animal speaks\")\n",
    "\n",
    "class Dog(Animal):\n",
    "    def speak(self):\n",
    "        print(\"Dog barks\")\n",
    "\n",
    "animal = Animal()\n",
    "animal.speak()  # Output: \"Animal speaks\"\n",
    "\n",
    "dog = Dog()\n",
    "dog.speak()  # Output: \"Dog barks\"\n"
   ]
  },
  {
   "cell_type": "code",
   "execution_count": null,
   "id": "5258ffdf-6561-4b00-bd8e-c191e44e4813",
   "metadata": {},
   "outputs": [],
   "source": []
  }
 ],
 "metadata": {
  "kernelspec": {
   "display_name": "Python 3 (ipykernel)",
   "language": "python",
   "name": "python3"
  },
  "language_info": {
   "codemirror_mode": {
    "name": "ipython",
    "version": 3
   },
   "file_extension": ".py",
   "mimetype": "text/x-python",
   "name": "python",
   "nbconvert_exporter": "python",
   "pygments_lexer": "ipython3",
   "version": "3.10.8"
  }
 },
 "nbformat": 4,
 "nbformat_minor": 5
}
