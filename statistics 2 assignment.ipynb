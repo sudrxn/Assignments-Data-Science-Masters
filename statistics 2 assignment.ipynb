{
 "cells": [
  {
   "cell_type": "code",
   "execution_count": null,
   "id": "4c4dc9fe-5753-4cb3-94d5-646c8c7c59ea",
   "metadata": {},
   "outputs": [],
   "source": [
    "#ans1\n",
    "\n",
    "Mean: The mean, often referred to as the average, is calculated by adding up all the values in a dataset \n",
    "and then dividing the sum by the total number of values. \n",
    " Mean= Sum of values/Number of values\n",
    "\n",
    "Median: The median is the middle value in a dataset when it is ordered in ascending or descending order.\n",
    "If there is an even number of values, the median is the average of the two middle values. The median is \n",
    "less sensitive to extreme values (outliers) than the mean.\n",
    "\n",
    "Mode: The mode is the value that occurs most frequently in a dataset. A dataset may have one mode, more \n",
    "than one mode (multimodal), or no mode at all if all values occur with the same frequency. Unlike the mean \n",
    "and median, the mode is not necessarily unique."
   ]
  },
  {
   "cell_type": "code",
   "execution_count": null,
   "id": "791f8b9f-22c5-4810-b02b-26078bcd2c18",
   "metadata": {},
   "outputs": [],
   "source": [
    "#ans2\n",
    "\n",
    ".Mean:\n",
    "The mean is a measure of central tendency calculated by adding up all the values in a dataset and then \n",
    "dividing the sum by the total number of values,It is sensitive to extreme values, taking into account the \n",
    "magnitude of each data point,The mean represents the balance point of the dataset.\n",
    "\n",
    "\n",
    "Median:\n",
    "The median is a measure of central tendency that represents the middle value in a sorted dataset,\n",
    "It is not influenced by extreme values, making it a more robust measure, especially in the presence of\n",
    "outliers,The median is suitable for skewed distributions and provides insight into the central position of the \n",
    "dataset.\n",
    "\n",
    "\n",
    "Mode:\n",
    "The mode is a measure of central tendency indicating the most frequently occurring value(s) in a dataset,\n",
    "It may not be unique, and a dataset can have no mode or multiple modes,The mode is useful for identifying\n",
    "common or popular values within the dataset,How They Are Used to Measure Central Tendency:\n",
    "\n",
    "    \n",
    ".Mean: The mean is used to find the balance point of the dataset and is appropriate when the distribution is relatively symmetrical without extreme values.\n",
    "\n",
    "Median: The median is used when there is a concern about the influence of extreme values, and it provides a better representation of the central position, especially in datasets with skewed distributions.\n",
    "\n",
    "Mode: The mode is used to identify the most frequently occurring values, making it suitable for datasets with distinct peaks or multiple modes.\n"
   ]
  },
  {
   "cell_type": "code",
   "execution_count": 2,
   "id": "178210ab-3db1-4bc4-be55-7b5a0caf61cc",
   "metadata": {},
   "outputs": [
    {
     "name": "stdout",
     "output_type": "stream",
     "text": [
      "the mean is 177.01875\n"
     ]
    }
   ],
   "source": [
    "#ans3:\n",
    "\n",
    "\n",
    "#central tandancy of mean:\n",
    "import numpy as np \n",
    "data=[178,177,176,177,178.2,178,175,179,180,175,178.9,176.2,177,172.5,178,176.5]\n",
    "print(\"the mean is\",np.mean(data))"
   ]
  },
  {
   "cell_type": "code",
   "execution_count": 3,
   "id": "cd72174f-50bc-4bf4-a57c-6e8bf87b1efd",
   "metadata": {},
   "outputs": [
    {
     "name": "stdout",
     "output_type": "stream",
     "text": [
      "the median is 177.0\n"
     ]
    }
   ],
   "source": [
    "print(\"the median is\",np.median(data))"
   ]
  },
  {
   "cell_type": "code",
   "execution_count": 8,
   "id": "2fdac75d-c376-4342-ab80-d4df8c455978",
   "metadata": {},
   "outputs": [
    {
     "name": "stdout",
     "output_type": "stream",
     "text": [
      "mode is  178\n"
     ]
    }
   ],
   "source": [
    "from statistics import mode\n",
    " \n",
    "data=[178,177,176,177,178.2,178,175,179,180,175,178.9,176.2,177,172.5,178,176.5]\n",
    "\n",
    "mode_is= mode(data)\n",
    "print(\"mode is \", mode_is)\n",
    "\n"
   ]
  },
  {
   "cell_type": "code",
   "execution_count": 11,
   "id": "5cf22bfc-d1aa-42db-923b-99beac8030c6",
   "metadata": {},
   "outputs": [],
   "source": [
    "#ans4\n",
    "\n",
    "import numpy as np\n",
    "data2=[178,177,176,177,178.2,178,175,179,180,175,178.9,176.2,177,172.5,178,176.5]\n"
   ]
  },
  {
   "cell_type": "code",
   "execution_count": 12,
   "id": "37811a07-e183-4728-8703-32452267e8c6",
   "metadata": {},
   "outputs": [
    {
     "data": {
      "text/plain": [
       "1.7885814036548633"
      ]
     },
     "execution_count": 12,
     "metadata": {},
     "output_type": "execute_result"
    }
   ],
   "source": [
    "np.std(data2)"
   ]
  },
  {
   "cell_type": "code",
   "execution_count": null,
   "id": "b7ca57c2-35ba-413f-ad0f-594443db0a21",
   "metadata": {},
   "outputs": [],
   "source": [
    "#ans5:\n",
    "\n",
    "Measures of dispersion, such as range, variance, and standard deviation, provide insights into the spread \n",
    "or variability of a dataset. These measures help to quantify the degree to which individual data points\n",
    "deviate from the central tendency (mean, median, etc.). Here's an explanation of each measure and an\n",
    "example:\n",
    "\n",
    "1. **Range:**\n",
    "   - **Definition:** The range is the simplest measure of dispersion and is calculated as the difference \n",
    "    between the maximum and minimum values in a dataset.\n",
    "   - **Use:** It gives a rough idea of how spread out the values in a dataset are.\n",
    "\n",
    "   **Example:**\n",
    "   Suppose you have a dataset of exam scores for a class of students: 70, 75, 80, 85, 90. The range would\n",
    "    be (90 - 70 = 20), indicating that the scores vary by 20 points.\n",
    "\n",
    "2. **Variance:**\n",
    "   - **Definition:** Variance is the average of the squared differences from the mean. It measures how far \n",
    "    each data point in the set is from the mean.\n",
    "   - **Use:** It provides a more comprehensive view of the spread, but the squared differences can be\n",
    "     difficult to interpret on their own.\n",
    "\n",
    "   \n",
    "3. **Standard Deviation:**\n",
    "   - **Definition:** The standard deviation is the square root of the variance. It provides a measure of\n",
    "    the average distance between each data point and the mean.\n",
    "   - **Use:** It is more interpretable than the variance because it is in the same units as the original \n",
    "     data.\n",
    "\n",
    "   \n"
   ]
  },
  {
   "cell_type": "code",
   "execution_count": null,
   "id": "92d8595b-88b1-40ac-886f-3381e1f3e930",
   "metadata": {},
   "outputs": [],
   "source": [
    "#ans6:\n",
    "\n",
    "\n",
    "A Venn diagram is a graphical representation of the relationships between sets. It uses circles or other\n",
    "shapes to represent sets and shows the extent of the overlap or the lack thereof between them. The primary\n",
    "purpose of a Venn diagram is to visually illustrate the commonalities and differences between different \n",
    "groups or categories.\n",
    "\n",
    "Key components of a Venn diagram include:\n",
    "\n",
    "Sets: Each circle or shape in the diagram represents a set. The elements or members of a set are items\n",
    "that share common characteristics or properties.\n",
    "\n",
    "Overlap: The overlapping areas between sets represent the elements that are common to both sets. The size \n",
    "of the overlap indicates the extent of the shared elements.\n",
    "\n",
    "Non-overlapping Regions: The portions of the circles that do not overlap represent elements unique to each\n",
    "set.\n"
   ]
  },
  {
   "cell_type": "code",
   "execution_count": 20,
   "id": "9672512d-181a-4608-8244-ab53c6b9dbba",
   "metadata": {},
   "outputs": [
    {
     "name": "stdout",
     "output_type": "stream",
     "text": [
      "intersection of A&B is {2, 6}\n",
      "union of A&B is {0, 2, 3, 4, 5, 6, 7, 8, 10}\n"
     ]
    }
   ],
   "source": [
    "#ans7:\n",
    "\n",
    "\n",
    "A = {2,3,4,5,6,7}\n",
    "B = {0,2,6,8,10}\n",
    "print(\"intersection of A&B is\",A.intersection(B))\n",
    "\n",
    "print(\"union of A&B is\",A.union(B))"
   ]
  },
  {
   "cell_type": "code",
   "execution_count": null,
   "id": "7a3e624d-328c-47f5-9bbc-cfbe7dd06621",
   "metadata": {},
   "outputs": [],
   "source": [
    "#ans8:\n",
    "\n",
    "Skewness is a statistical measure that describes the asymmetry of a probability distribution or a dataset.\n",
    "In other words, it quantifies the extent and direction of skew (departure from horizontal symmetry) in the\n",
    "data. A dataset or distribution can be positively skewed, negatively skewed, or approximately symmetric.\n",
    "\n",
    "1. **Positively Skewed (Right Skewed):** In a positively skewed distribution, the right tail is longer or\n",
    "    fatter than the left tail. This means that the majority of the data points are concentrated on the left\n",
    "    side of the distribution, with a few larger values on the right side. The skewness value for a positively \n",
    "    skewed distribution is greater than zero.\n",
    "\n",
    "2. **Negatively Skewed (Left Skewed):** In a negatively skewed distribution, the left tail is longer or\n",
    "   fatter than the right tail. This implies that the bulk of the data points are clustered on the right side \n",
    "   of the distribution, with a few smaller values on the left side. The skewness value for a negatively skewed\n",
    "   distribution is less than zero.\n",
    "\n",
    "3. **Symmetric:** If the dataset or distribution is symmetric, it means that the left and right sides are \n",
    "   mirror images of each other. In a perfectly symmetric distribution, the skewness value is zero. However, \n",
    "   it's worth noting that some datasets may exhibit a small degree of skewness even when they appear visually\n",
    "   symmetric.\n",
    "\n",
    "Skewness is calculated using the third standardized moment and is often denoted by the Greek letter gamma \n",
    "(γ) or the letter \"G.\" \n"
   ]
  },
  {
   "cell_type": "code",
   "execution_count": null,
   "id": "1abf1905-9d6a-42df-a90e-dd7a14e5982e",
   "metadata": {},
   "outputs": [],
   "source": [
    "#ans9:\n",
    "\n",
    "In a right-skewed distribution, the tail on the right-hand side is longer or fatter than the left-hand side. \n",
    "So,  in a right-skewed distribution, the mean is generally greater than the median."
   ]
  },
  {
   "cell_type": "code",
   "execution_count": null,
   "id": "25c89aa0-749a-4914-bbb6-ca6fc857ba50",
   "metadata": {},
   "outputs": [],
   "source": [
    "#ans10:\n",
    "\n",
    "Covariance and correlation are both measures that describe the extent to which two variables change \n",
    "together, indicating the strength and direction of their relationship. However, they differ in scale and \n",
    "interpretation.\n",
    "\n",
    "1. **Covariance:**\n",
    "   - **Definition:** Covariance measures how much two variables change together. If the covariance is \n",
    "    positive, it indicates that as one variable increases, the other variable tends to increase as well. \n",
    "    If it's negative, it means that as one variable increases, the other variable tends to decrease.\n",
    "   - **Formula:** For two variables X and Y with observations Cov(X, Y) = Σ((xi - X̄)(yi - Ȳ)) / N\n",
    "\n",
    "                                 \n",
    "\n",
    "2. **Correlation:**\n",
    "   - **Definition:** Correlation is a standardized measure of the strength and direction of the linear \n",
    "    relationship between two variables. It scales the covariance by the product of the standard deviations\n",
    "    of the variables.\n",
    "   - **Formula:** For two variables X and Y with standard deviations Corr(X, Y) = Cov(X, Y) / (SX * SY)\n",
    "\n",
    " n  **Use in Statistical Analysis:**\n",
    "- **Covariance:**\n",
    "  - Covariance is used to understand the direction of the relationship between two variables. Positive\n",
    "    covariance suggests a positive relationship, and negative covariance suggests a negative relationship.\n",
    "  - However, the magnitude of covariance is not easily interpretable because it depends on the scales of\n",
    "the variables.\n",
    "\n",
    "- **Correlation:**\n",
    "  - Correlation is widely used because it provides a standardized measure, making it easier to interpret.\n",
    "  - The correlation coefficient allows for comparison of the strength and direction of relationships\n",
    "between different pairs of variables.\n",
    "  - Correlation is more robust than covariance in handling different scales, as it standardizes the\n",
    "    measure.\n",
    "\n"
   ]
  },
  {
   "cell_type": "code",
   "execution_count": 21,
   "id": "943cf1e9-879f-4b01-8da8-e54b89e23464",
   "metadata": {},
   "outputs": [
    {
     "name": "stdout",
     "output_type": "stream",
     "text": [
      "Sample Mean: 20.0\n"
     ]
    }
   ],
   "source": [
    "#ans11:\n",
    "# Sample dataset\n",
    "data = [10, 15, 20, 25, 30]\n",
    "\n",
    "# Calculate the sample mean\n",
    "sample_mean = sum(data) / len(data)\n",
    "\n",
    "# Print the result\n",
    "print(\"Sample Mean:\", sample_mean)\n",
    "\n"
   ]
  },
  {
   "cell_type": "code",
   "execution_count": null,
   "id": "befb6082-68ca-4352-857f-37a1c820b607",
   "metadata": {},
   "outputs": [],
   "source": [
    "#qns12:\n",
    "\n",
    "For a normal distribution, the three main measures of central tendency—mean, median, and mode—share an \n",
    "interesting relationship:\n",
    "    \n",
    "    Mean=Median=Mode"
   ]
  },
  {
   "cell_type": "code",
   "execution_count": null,
   "id": "36a69114-8bfd-41ea-947a-161e4106a823",
   "metadata": {},
   "outputs": [],
   "source": [
    "#ans13:\n",
    "\n",
    "- **Covariance:** Measures how two variables change together. It can be positive or negative but lacks a \n",
    "    standardized scale.\n",
    "  \n",
    "- **Correlation:** A standardized measure that indicates both the strength and direction of the relationship\n",
    "    between two variables. It always ranges between -1 and 1, making it easier to interpret and compare.\n",
    "\n"
   ]
  },
  {
   "cell_type": "code",
   "execution_count": null,
   "id": "7c694f7f-129e-4f29-8b4c-1f21f8177e34",
   "metadata": {},
   "outputs": [],
   "source": []
  },
  {
   "cell_type": "code",
   "execution_count": null,
   "id": "a7c8fb72-5fc5-48ee-a26f-05d5c8a5f216",
   "metadata": {},
   "outputs": [],
   "source": []
  },
  {
   "cell_type": "code",
   "execution_count": null,
   "id": "09008882-1dfa-4684-813d-b833f96a0242",
   "metadata": {},
   "outputs": [],
   "source": []
  },
  {
   "cell_type": "code",
   "execution_count": null,
   "id": "11ccbfe5-73ab-4a55-a1eb-e7b55f0a43d9",
   "metadata": {},
   "outputs": [],
   "source": []
  },
  {
   "cell_type": "code",
   "execution_count": null,
   "id": "76ab165c-f281-4510-8e58-b74cbbfd71c3",
   "metadata": {},
   "outputs": [],
   "source": []
  }
 ],
 "metadata": {
  "kernelspec": {
   "display_name": "Python 3 (ipykernel)",
   "language": "python",
   "name": "python3"
  },
  "language_info": {
   "codemirror_mode": {
    "name": "ipython",
    "version": 3
   },
   "file_extension": ".py",
   "mimetype": "text/x-python",
   "name": "python",
   "nbconvert_exporter": "python",
   "pygments_lexer": "ipython3",
   "version": "3.10.8"
  }
 },
 "nbformat": 4,
 "nbformat_minor": 5
}
