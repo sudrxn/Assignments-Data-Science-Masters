{
 "cells": [
  {
   "cell_type": "code",
   "execution_count": 2,
   "id": "481e43a7-27a7-4f58-9adf-fa600c6bacd8",
   "metadata": {},
   "outputs": [
    {
     "name": "stdout",
     "output_type": "stream",
     "text": [
      "95% Confidence Interval: (48.1329693162095, 51.8670306837905)\n"
     ]
    }
   ],
   "source": [
    "#ans1:\n",
    "\n",
    "\n",
    "\n",
    "import scipy.stats as stats\n",
    "\n",
    "# Given data\n",
    "sample_mean = 50\n",
    "sample_std_dev = 5\n",
    "sample_size = 30  # You need to replace this with your actual sample size\n",
    "\n",
    "# Calculate the standard error of the mean (SEM)\n",
    "sem = sample_std_dev / (sample_size ** 0.5)\n",
    "\n",
    "# Set the confidence level\n",
    "confidence_level = 0.95\n",
    "\n",
    "# Calculate the degrees of freedom (for a one-sample t-test)\n",
    "df = sample_size - 1\n",
    "\n",
    "# Calculate the margin of error\n",
    "margin_of_error = stats.t.ppf((1 + confidence_level) / 2, df) * sem\n",
    "\n",
    "# Calculate the confidence interval\n",
    "lower_limit = sample_mean - margin_of_error\n",
    "upper_limit = sample_mean + margin_of_error\n",
    "\n",
    "# Print the results\n",
    "print(f\"95% Confidence Interval: ({lower_limit}, {upper_limit})\")\n"
   ]
  },
  {
   "cell_type": "code",
   "execution_count": 2,
   "id": "752e765d-cc83-487a-b4da-ecac0398a711",
   "metadata": {},
   "outputs": [
    {
     "name": "stdout",
     "output_type": "stream",
     "text": [
      "Chi2 Stat: 0.1813921200371582\n",
      "Degrees of Freedom: 5\n",
      "P-value: 0.9993012185361757\n",
      "Fail to reject the null hypothesis. The distribution of M&M colors matches the expected distribution.\n"
     ]
    }
   ],
   "source": [
    "#ans2:\n",
    "\n",
    "import numpy as np\n",
    "from scipy.stats import chi2_contingency\n",
    "\n",
    "observed_blue = 25\n",
    "observed_orange = 20\n",
    "observed_green = 18\n",
    "observed_yellow = 10\n",
    "observed_red = 12\n",
    "observed_brown = 15\n",
    "\n",
    "\n",
    "# Observed frequencies of M&M colors\n",
    "observed_frequencies = np.array([observed_blue, observed_orange, observed_green, observed_yellow, observed_red, observed_brown])\n",
    "\n",
    "# Expected frequencies based on the given distribution\n",
    "expected_frequencies = np.array([0.2, 0.2, 0.2, 0.1, 0.1, 0.2]) * len(observed_frequencies)\n",
    "\n",
    "# Perform chi-square goodness-of-fit test\n",
    "chi2_stat, p_value, dof, expected = chi2_contingency([observed_frequencies, expected_frequencies])\n",
    "\n",
    "# Output the results\n",
    "print(\"Chi2 Stat:\", chi2_stat)\n",
    "print(\"Degrees of Freedom:\", dof)\n",
    "print(\"P-value:\", p_value)\n",
    "\n",
    "# Compare p-value with the significance level\n",
    "alpha = 0.05\n",
    "if p_value < alpha:\n",
    "    print(\"Reject the null hypothesis. The distribution of M&M colors is significantly different from the expected distribution.\")\n",
    "else:\n",
    "    print(\"Fail to reject the null hypothesis. The distribution of M&M colors matches the expected distribution.\")\n"
   ]
  },
  {
   "cell_type": "code",
   "execution_count": 3,
   "id": "054b489c-6b56-4e7d-84f5-6efb1ee34324",
   "metadata": {},
   "outputs": [
    {
     "name": "stdout",
     "output_type": "stream",
     "text": [
      "Chi-square statistic: 5.833333333333334\n",
      "P-value: 0.05411376622282158\n",
      "Degrees of freedom: 2\n",
      "Expected frequencies:\n",
      "[[15. 20.]\n",
      " [15. 20.]\n",
      " [15. 20.]]\n"
     ]
    }
   ],
   "source": [
    "#asn3:\n",
    "\n",
    "\n",
    "import numpy as np\n",
    "from scipy.stats import chi2_contingency\n",
    "\n",
    "# Contingency table data\n",
    "observed_data = np.array([[20, 15],\n",
    "                          [10, 25],\n",
    "                          [15, 20]])\n",
    "\n",
    "# Calculate chi-square statistic, p-value, degrees of freedom, and expected frequencies\n",
    "chi2_stat, p_value, dof, expected = chi2_contingency(observed_data)\n",
    "\n",
    "# Print the results\n",
    "print(f\"Chi-square statistic: {chi2_stat}\")\n",
    "print(f\"P-value: {p_value}\")\n",
    "print(f\"Degrees of freedom: {dof}\")\n",
    "print(\"Expected frequencies:\")\n",
    "print(expected)\n"
   ]
  },
  {
   "cell_type": "code",
   "execution_count": 12,
   "id": "4e8aa21c-5c69-4cc6-804e-87ccc84238a7",
   "metadata": {},
   "outputs": [
    {
     "name": "stdout",
     "output_type": "stream",
     "text": [
      "95% Confidence Interval: (0.0915, 0.1485)\n"
     ]
    }
   ],
   "source": [
    "#ans4:\n",
    "\n",
    "\n",
    "import math\n",
    "\n",
    "# Given data\n",
    "total_population = 500\n",
    "number_of_smokers = 60\n",
    "confidence_level = 0.95\n",
    "\n",
    "# Calculate the sample proportion\n",
    "sample_proportion = number_of_smokers / total_population\n",
    "\n",
    "# Calculate the standard error\n",
    "standard_error = math.sqrt((sample_proportion * (1 - sample_proportion)) / total_population)\n",
    "\n",
    "# Calculate the margin of error using the z-score\n",
    "z_score = 1.96  # For a 95% confidence interval\n",
    "margin_of_error = z_score * standard_error\n",
    "\n",
    "# Calculate the confidence interval\n",
    "lower_bound = sample_proportion - margin_of_error\n",
    "upper_bound = sample_proportion + margin_of_error\n",
    "\n",
    "# Print the result\n",
    "print(f\"95% Confidence Interval: ({lower_bound:.4f}, {upper_bound:.4f})\")\n"
   ]
  },
  {
   "cell_type": "code",
   "execution_count": 19,
   "id": "f502649f-c71f-4459-a003-69bf4d3868c4",
   "metadata": {},
   "outputs": [
    {
     "name": "stdout",
     "output_type": "stream",
     "text": [
      "95% of confidence interval 71.39630625889797 78.60369374110203\n"
     ]
    }
   ],
   "source": [
    "#ans5:\n",
    "\n",
    "import scipy.stats as stats\n",
    "\n",
    "\n",
    "confidence_level=0.90\n",
    "sample_size=30\n",
    "standard_deviation=12\n",
    "mean=75\n",
    "alpha=0.5\n",
    "\n",
    "standard_error= standard_deviation/(sample_size**alpha)\n",
    "\n",
    "margin_of_error= stats.norm.ppf((1+confidence_level)/2)*standard_error\n",
    "\n",
    "lower_bound= mean- margin_of_error\n",
    "upper_bound=mean+margin_of_error\n",
    "\n",
    "print(\"95% of confidence interval\",lower_bound,upper_bound )\n"
   ]
  },
  {
   "cell_type": "code",
   "execution_count": 8,
   "id": "c7582d99-9687-449d-812f-def3c0df6654",
   "metadata": {},
   "outputs": [
    {
     "data": {
      "image/png": "[encoded data removed]",
      "text/plain": [
       "<Figure size 640x480 with 1 Axes>"
      ]
     },
     "metadata": {},
     "output_type": "display_data"
    }
   ],
   "source": [
    "#ans:6\n",
    "\n",
    "import numpy as np\n",
    "import scipy.stats as stats\n",
    "import matplotlib.pyplot as plt\n",
    "from scipy.stats import chi2\n",
    "\n",
    "degree_of_freedom= 10\n",
    "x= np.linspace(0,30,1000)\n",
    "plt.plot(x,chi2.pdf(x, degree_of_freedom),label=f'chisquare fitness with{degree_of_freedom}degree of freedom')\n",
    "x_fill=np.linspace(0,15,100)\n",
    "plt.fill_between(x_fill, chi2.pdf(x_fill, degree_of_freedom), color='orange', alpha=0.5, label='Shaded Area (Chi-square > 15)')\n",
    "# Label the axes\n",
    "plt.xlabel('Chi-square Statistic')\n",
    "plt.ylabel('Probability Density Function')\n",
    "plt.title(f'Chi-square Distribution with {degree_of_freedom} Degrees of Freedom')\n",
    "\n",
    "# Add a legend\n",
    "plt.legend()\n",
    "\n",
    "# Display the plot\n",
    "plt.show()         \n"
   ]
  },
  {
   "cell_type": "code",
   "execution_count": 13,
   "id": "a0c36cac-87b2-4079-bc8d-8d8c531ec659",
   "metadata": {},
   "outputs": [
    {
     "name": "stdout",
     "output_type": "stream",
     "text": [
      "sample proportoion: 0.5200\n",
      "margin of error:0.0407\n",
      "99%confidence level:(0.4793,0.5607)\n"
     ]
    }
   ],
   "source": [
    "#ans7:\n",
    "\n",
    "import math\n",
    "from scipy.stats import norm\n",
    "sample_size=1000\n",
    "confidence_level=0.99\n",
    "sample_proportion=520\n",
    "alpha=0.01\n",
    "\n",
    "\n",
    "proportion_size= sample_proportion / sample_size\n",
    "standard_error = math.sqrt((proportion_size*(1-proportion_size))/sample_size)\n",
    "if standard_error > 0:\n",
    "    # Calculate the Z-score for the desired confidence level\n",
    "    Z_score = norm.ppf((1 + confidence_level) / 2)\n",
    "    margin_error= Z_score*standard_error\n",
    "\n",
    "    lower_bound=proportion_size-margin_error\n",
    "    upper_bound=proportion_size+margin_error\n",
    "\n",
    "    print(f'sample proportoion: {proportion_size:.4f}')\n",
    "    print(f'margin of error:{margin_error:.4f}')\n",
    "    print(f'99%confidence level:({lower_bound:.4f},{upper_bound:.4f})')\n",
    "    \n",
    "else:\n",
    "    print(\"Cannot calculate confidence interval. Standard error is zero.\")\n"
   ]
  },
  {
   "cell_type": "code",
   "execution_count": 15,
   "id": "eeea0745-7f11-41a1-a6fd-ea8c4e634ab8",
   "metadata": {},
   "outputs": [
    {
     "name": "stdout",
     "output_type": "stream",
     "text": [
      "Chi-square statistic: 1.0\n",
      "P-value: 0.31731050786291115\n",
      "Reject the null hypothesis. The coin appears to be biased towards tails.\n"
     ]
    }
   ],
   "source": [
    "#ans8:\n",
    "\n",
    "import numpy as np\n",
    "import scipy.stats as stats\n",
    "from scipy.stats import chisquare\n",
    "\n",
    "observed_tails=45\n",
    "observed_heads=55\n",
    "\n",
    "expected_heads=50\n",
    "expected_tails=50\n",
    "\n",
    "observed_frequencies=np.array([observed_tails,observed_heads])\n",
    "expected_frequencies =np.array([expected_heads, expected_tails])\n",
    "\n",
    "chi2_stats, p_value=chisquare(f_obs=observed_frequencies,f_exp=expected_frequencies)\n",
    "\n",
    "print(\"Chi-square statistic:\", chi2_stats)\n",
    "print(\"P-value:\", p_value)\n",
    "\n",
    "if p_value<0.5:\n",
    "    print(\"Reject the null hypothesis. The coin appears to be biased towards tails.\")\n",
    "else:\n",
    "    print(\"Fail to reject the null hypothesis. There is not enough evidence to suggest a bias.\")\n",
    "\n",
    "\n",
    "\n"
   ]
  },
  {
   "cell_type": "code",
   "execution_count": 20,
   "id": "64832415-29db-4eef-9ece-cba362c55934",
   "metadata": {},
   "outputs": [
    {
     "name": "stdout",
     "output_type": "stream",
     "text": [
      "chi_contingency statistics:12.057347670250895\n",
      "p value :0.0005158863863703744\n",
      "degree of freedom:1\n",
      "Contingency table of expected frequencies:\n",
      "[[ 45. 155.]\n",
      " [ 45. 155.]]\n",
      "reject the Null Hypothesis:There is a significant association between smoking status and lung cancer diagnosis.\n"
     ]
    }
   ],
   "source": [
    "#ans9:\n",
    "\n",
    "import numpy as np\n",
    "from scipy.stats import chi2_contingency\n",
    "\n",
    "observed_data=np.array([[60, 140], [30, 170]])\n",
    "\n",
    "\n",
    "chi2_stat,p_value,dof,expected=chi2_contingency(observed_data)\n",
    "\n",
    "print(f\"chi_contingency statistics:{chi2_stat}\")\n",
    "print(f\"p value :{p_value}\")\n",
    "print(f\"degree of freedom:{dof}\")\n",
    "print(\"Contingency table of expected frequencies:\")\n",
    "print(expected)\n",
    "\n",
    "alpha=0.5\n",
    "if p_value<alpha:\n",
    "    print(\"reject the Null Hypothesis:There is a significant association between smoking status and lung cancer diagnosis.\")\n",
    "else:     \n",
    "    print(\"reject the Null Hypothesis:There is a significant association between smoking status and lung cancer diagnosis.\")"
   ]
  },
  {
   "cell_type": "code",
   "execution_count": 22,
   "id": "e34bd114-0c6e-4895-b3cb-b91248db536d",
   "metadata": {},
   "outputs": [
    {
     "name": "stdout",
     "output_type": "stream",
     "text": [
      "Chi-Square Value: 13.393665158371041\n",
      "P-value: 0.0012348168997745918\n",
      "Degrees of Freedom: 2\n",
      "Expected Frequencies:\n",
      "[[212.5 162.5 125. ]\n",
      " [212.5 162.5 125. ]]\n",
      "\n",
      "Significance Level: 0.01\n",
      "Reject the null hypothesis. There is a significant association.\n"
     ]
    }
   ],
   "source": [
    "#ans10:\n",
    "\n",
    "\n",
    "import numpy as np\n",
    "from scipy.stats import chi2_contingency\n",
    "\n",
    "# Create the observed frequency matrix\n",
    "observed = np.array([[200, 150, 150], [225, 175, 100]])\n",
    "\n",
    "# Perform the chi-square test\n",
    "chi2, p, dof, expected = chi2_contingency(observed)\n",
    "\n",
    "# Output the results\n",
    "print(f\"Chi-Square Value: {chi2}\")\n",
    "print(f\"P-value: {p}\")\n",
    "print(f\"Degrees of Freedom: {dof}\")\n",
    "print(\"Expected Frequencies:\")\n",
    "print(expected)\\\n",
    "\n",
    "\n",
    "alpha = 0.01\n",
    "print(f\"\\nSignificance Level: {alpha}\")\n",
    "if p < alpha:\n",
    "    print(\"Reject the null hypothesis. There is a significant association.\")\n",
    "else:\n",
    "    print(\"Fail to reject the null hypothesis. There is no significant association.\")\n"
   ]
  },
  {
   "cell_type": "code",
   "execution_count": null,
   "id": "fb289927-2b39-4634-8ab2-278ada5d9fbb",
   "metadata": {},
   "outputs": [],
   "source": []
  },
  {
   "cell_type": "code",
   "execution_count": null,
   "id": "232bdbd0-b215-4f52-8eb6-297940a4cbed",
   "metadata": {},
   "outputs": [],
   "source": []
  },
  {
   "cell_type": "markdown",
   "id": "9c3f8545-2317-46f9-9dfd-171b6a92b605",
   "metadata": {},
   "source": []
  }
 ],
 "metadata": {
  "kernelspec": {
   "display_name": "Python 3 (ipykernel)",
   "language": "python",
   "name": "python3"
  },
  "language_info": {
   "codemirror_mode": {
    "name": "ipython",
    "version": 3
   },
   "file_extension": ".py",
   "mimetype": "text/x-python",
   "name": "python",
   "nbconvert_exporter": "python",
   "pygments_lexer": "ipython3",
   "version": "3.10.8"
  }
 },
 "nbformat": 4,
 "nbformat_minor": 5
}
