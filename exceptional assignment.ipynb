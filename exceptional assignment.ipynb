{
 "cells": [
  {
   "cell_type": "code",
   "execution_count": null,
   "id": "c61c902b-7cd7-41b8-877e-b05468f5a947",
   "metadata": {},
   "outputs": [],
   "source": [
    "ans1:- syntax errors are detected by the Python interpreter before the program is executed, while exceptions\n",
    "occur during program execution and can be caught and handled using try-except blocks. Handling exceptions\n",
    "allows developers to gracefully respond to errors and prevent the program from crashing."
   ]
  },
  {
   "cell_type": "code",
   "execution_count": null,
   "id": "68067664-878d-4d80-af11-a5fc1b030ffb",
   "metadata": {},
   "outputs": [],
   "source": [
    "ans2:- When an exception is not handled in a program, it typically leads to the termination of the program\n",
    "and the generation of an error message. The error message provides information about the type of exception\n",
    "that occurred and a traceback of the program's execution path, showing where the exception occurred."
   ]
  },
  {
   "cell_type": "code",
   "execution_count": 1,
   "id": "aca1a311-a64a-4e27-a371-ecd956e5a4de",
   "metadata": {},
   "outputs": [
    {
     "ename": "ZeroDivisionError",
     "evalue": "division by zero",
     "output_type": "error",
     "traceback": [
      "\u001b[0;31m---------------------------------------------------------------------------\u001b[0m",
      "\u001b[0;31mZeroDivisionError\u001b[0m                         Traceback (most recent call last)",
      "Cell \u001b[0;32mIn[1], line 6\u001b[0m\n\u001b[1;32m      3\u001b[0m     \u001b[38;5;28;01mreturn\u001b[39;00m result\n\u001b[1;32m      5\u001b[0m \u001b[38;5;66;03m# Example 1: Division by zero (ZeroDivisionError)\u001b[39;00m\n\u001b[0;32m----> 6\u001b[0m result \u001b[38;5;241m=\u001b[39m \u001b[43mdivide_numbers\u001b[49m\u001b[43m(\u001b[49m\u001b[38;5;241;43m10\u001b[39;49m\u001b[43m,\u001b[49m\u001b[43m \u001b[49m\u001b[38;5;241;43m0\u001b[39;49m\u001b[43m)\u001b[49m\n\u001b[1;32m      7\u001b[0m \u001b[38;5;28mprint\u001b[39m(result)\n",
      "Cell \u001b[0;32mIn[1], line 2\u001b[0m, in \u001b[0;36mdivide_numbers\u001b[0;34m(a, b)\u001b[0m\n\u001b[1;32m      1\u001b[0m \u001b[38;5;28;01mdef\u001b[39;00m \u001b[38;5;21mdivide_numbers\u001b[39m(a, b):\n\u001b[0;32m----> 2\u001b[0m     result \u001b[38;5;241m=\u001b[39m \u001b[43ma\u001b[49m\u001b[43m \u001b[49m\u001b[38;5;241;43m/\u001b[39;49m\u001b[43m \u001b[49m\u001b[43mb\u001b[49m\n\u001b[1;32m      3\u001b[0m     \u001b[38;5;28;01mreturn\u001b[39;00m result\n",
      "\u001b[0;31mZeroDivisionError\u001b[0m: division by zero"
     ]
    }
   ],
   "source": [
    "def divide_numbers(a, b):\n",
    "    result = a / b\n",
    "    return result\n",
    "\n",
    "# Example 1: Division by zero (ZeroDivisionError)\n",
    "result = divide_numbers(10, 0)\n",
    "print(result)\n"
   ]
  },
  {
   "cell_type": "code",
   "execution_count": null,
   "id": "0b96fa44-f605-4f16-9141-6a1b6682633a",
   "metadata": {},
   "outputs": [],
   "source": [
    "ans3:-In Python, exception handling is done using the try, except, else, and finally statements. These \n",
    "statements allow you to catch and handle exceptions that may occur during the execution of your code.\n",
    "Here's example of each "
   ]
  },
  {
   "cell_type": "code",
   "execution_count": 2,
   "id": "5dbc6069-1c69-4754-9d06-2f13f1f2a601",
   "metadata": {},
   "outputs": [
    {
     "name": "stdout",
     "output_type": "stream",
     "text": [
      "The result of 10 / 2 is: 5.0\n",
      "This block is always executed, regardless of exceptions.\n",
      "Error: division by zero - You cannot divide by zero.\n",
      "This block is always executed, regardless of exceptions.\n",
      "Error: unsupported operand type(s) for /: 'str' and 'int' - Please provide valid numbers.\n",
      "This block is always executed, regardless of exceptions.\n"
     ]
    }
   ],
   "source": [
    "def divide_numbers(x, y):\n",
    "    try:\n",
    "        result = x / y\n",
    "    except ZeroDivisionError as e:\n",
    "        print(f\"Error: {e} - You cannot divide by zero.\")\n",
    "    except TypeError as e:\n",
    "        print(f\"Error: {e} - Please provide valid numbers.\")\n",
    "    else:\n",
    "        print(f\"The result of {x} / {y} is: {result}\")\n",
    "    finally:\n",
    "        print(\"This block is always executed, regardless of exceptions.\")\n",
    "\n",
    "# Example usage:\n",
    "divide_numbers(10, 2)   # This should print the result and the finally block.\n",
    "divide_numbers(10, 0)   # This should print the ZeroDivisionError message and the finally block.\n",
    "divide_numbers(\"10\", 2) # This should print the TypeError message and the finally block.\n"
   ]
  },
  {
   "cell_type": "code",
   "execution_count": null,
   "id": "6911c9a4-87a6-4945-a4eb-112ada9f9f66",
   "metadata": {},
   "outputs": [],
   "source": [
    "try & else:-  In Python, the try and except blocks are used for exception handling. They allow you to handle\n",
    "potential errors or exceptions that may occur during the execution of your code. The basic syntax is \n",
    "follows:"
   ]
  },
  {
   "cell_type": "code",
   "execution_count": null,
   "id": "85767373-25f0-4bbf-afe4-d81b9ab29e5b",
   "metadata": {},
   "outputs": [],
   "source": [
    "try:\n",
    "    # Code that may raise an exception\n",
    "    # ...\n",
    "except ExceptionType:\n",
    "    # Code to handle the exception\n",
    "    # ...\n",
    "else:\n",
    "    # Code to execute if no exception occurs\n",
    "    # ...\n"
   ]
  },
  {
   "cell_type": "code",
   "execution_count": null,
   "id": "d610ed11-aef8-402c-9635-58b24e7abf38",
   "metadata": {},
   "outputs": [],
   "source": [
    "finnaly:- \n",
    "In Python, the finally block is used in conjunction with a try block to ensure that a certain block of code\n",
    "is always executed, regardless of whether an exception occurs or not. The finally block is useful for \n",
    "cleanup operations or releasing resources that should be done irrespective of whether an exception occurred \n",
    "n the try block or not."
   ]
  },
  {
   "cell_type": "code",
   "execution_count": null,
   "id": "68633925-073f-49fb-857b-a8735c6d9647",
   "metadata": {},
   "outputs": [],
   "source": [
    "raise:- In Python, the raise statement is used to raise an exception explicitly. This can be helpful when\n",
    "you want to indicate that an error or exceptional condition has occurred in your code. The basic syntax of\n",
    "the raise statement is as follows:"
   ]
  },
  {
   "cell_type": "code",
   "execution_count": 5,
   "id": "9b67690a-94c7-4670-ac89-b85e6b3efa95",
   "metadata": {},
   "outputs": [
    {
     "name": "stdout",
     "output_type": "stream",
     "text": [
      "Result: 5.0\n",
      "Error: Cannot divide by zero\n"
     ]
    }
   ],
   "source": [
    "def divide_numbers(a, b):\n",
    "    if b == 0:\n",
    "        raise ValueError(\"Cannot divide by zero\")\n",
    "    return a / b\n",
    "\n",
    "# Example usage\n",
    "try:\n",
    "    result = divide_numbers(10, 2)\n",
    "    print(\"Result:\", result)\n",
    "    \n",
    "    result = divide_numbers(8, 0)  # This will raise an exception\n",
    "    print(\"Result:\", result)  # This line will not be executed in case of an exception\n",
    "    \n",
    "except ValueError as e:\n",
    "    print(f\"Error: {e}\")\n"
   ]
  },
  {
   "cell_type": "code",
   "execution_count": null,
   "id": "ab60e6ed-de93-445a-b8c2-a3ceb01e2b33",
   "metadata": {},
   "outputs": [],
   "source": [
    "ans6:-"
   ]
  },
  {
   "cell_type": "code",
   "execution_count": 8,
   "id": "7f9959c5-2ff2-40a2-8c95-9e227dff9c6a",
   "metadata": {},
   "outputs": [
    {
     "name": "stdin",
     "output_type": "stream",
     "text": [
      "Enter a positive number:  -6\n"
     ]
    },
    {
     "name": "stdout",
     "output_type": "stream",
     "text": [
      "CustomError: Negative values are not allowed\n"
     ]
    }
   ],
   "source": [
    "class CustomError(Exception):\n",
    "    \"\"\"Custom exception class.\"\"\"\n",
    "    def __init__(self, message=\"A custom error occurred\"):\n",
    "        self.message = message\n",
    "        super().__init__(self.message)\n",
    "\n",
    "def some_function(value):\n",
    "    if value < 0:\n",
    "        raise CustomError(\"Negative values are not allowed\")\n",
    "\n",
    "try:\n",
    "    user_input = int(input(\"Enter a positive number: \"))\n",
    "    some_function(user_input)\n",
    "except CustomError as ce:\n",
    "    print(f\"CustomError: {ce}\")\n",
    "except ValueError as ve:\n",
    "    print(f\"ValueError: {ve}\")\n",
    "else:\n",
    "    print(\"No exception occurred.\")\n"
   ]
  },
  {
   "cell_type": "code",
   "execution_count": null,
   "id": "9f9e3fab-bf22-41e2-9932-3e73f1f16e0d",
   "metadata": {},
   "outputs": [],
   "source": []
  },
  {
   "cell_type": "code",
   "execution_count": null,
   "id": "346f50a3-727d-43b0-abde-85c0df2a562a",
   "metadata": {},
   "outputs": [],
   "source": []
  }
 ],
 "metadata": {
  "kernelspec": {
   "display_name": "Python 3 (ipykernel)",
   "language": "python",
   "name": "python3"
  },
  "language_info": {
   "codemirror_mode": {
    "name": "ipython",
    "version": 3
   },
   "file_extension": ".py",
   "mimetype": "text/x-python",
   "name": "python",
   "nbconvert_exporter": "python",
   "pygments_lexer": "ipython3",
   "version": "3.10.8"
  }
 },
 "nbformat": 4,
 "nbformat_minor": 5
}
