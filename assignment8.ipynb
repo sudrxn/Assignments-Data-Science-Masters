{
 "cells": [
  {
   "cell_type": "code",
   "execution_count": null,
   "id": "cf7a642d-912c-4162-a29f-6fec7bffd2a5",
   "metadata": {},
   "outputs": [],
   "source": [
    "Q1. What is Abstraction in OOps? Explain with an example."
   ]
  },
  {
   "cell_type": "code",
   "execution_count": null,
   "id": "75ad4d5f-f81d-47cf-81e4-0becc5bf6eb5",
   "metadata": {},
   "outputs": [],
   "source": [
    "Abstraction is one of the fundamental concepts of Object-Oriented Programming (OOPs) that allows the user to focus on essential \n",
    "\n",
    "features while hiding unnecessary details.\n",
    "\n",
    "Abstraction involves breaking down complex systems into smaller, more manageable components that can be easily understood by the \n",
    "user. This helps to simplify the design process, making it easier to modify and maintain the code.\n",
    "\n",
    "One common example of abstraction in OOPs is the use of abstract classes and interfaces. These are classes that define a set of \n",
    "methods or properties that must be implemented by any class that inherits from them.\n",
    "\n",
    "For example, suppose we are designing a game that involves various types of characters, such as heroes, villains, and non-playable\n",
    "characters. We can create an abstract class called \"Character\" that defines common characteristics and behavior for all these types \n",
    "of characters, \n",
    "such as their health, attack power, and movement speed.\n",
    "\n",
    "The \"Character\" class can also have abstract methods like \"attack()\" and \"move()\" which can be implemented differently for each \n",
    "type of character. Any class that inherits from the \"Character\" class must implement these methods according to the specific needs\n",
    "of that character.\n",
    "\n",
    "By using abstraction, we can create a consistent and organized system for managing all the different characters in our game, \n",
    "without having to worry about the details of each individual character's implementation. This makes the code easier to understand\n",
    "and maintain over time."
   ]
  },
  {
   "cell_type": "code",
   "execution_count": null,
   "id": "fefe6837-0465-4748-a52d-2a295f62700c",
   "metadata": {},
   "outputs": [],
   "source": [
    "Q2. Differentiate between Abstraction and Encapsulation. Explain with an example."
   ]
  },
  {
   "cell_type": "code",
   "execution_count": null,
   "id": "b6ca6785-2ecd-44ca-9249-894ee31a4d91",
   "metadata": {},
   "outputs": [],
   "source": [
    "Abstraction and Encapsulation are two fundamental concepts in Object-Oriented Programming (OOP) that help developers to write \n",
    "modular and maintainable code. Although they share some similarities, they are distinct concepts.\n",
    "\n",
    "Abstraction refers to the process of hiding unnecessary details and showing only the essential features of an object to the user.\n",
    "In other words, it is a way of representing complex systems or concepts in a simpler way by ignoring unnecessary details. \n",
    "Abstraction is achieved through abstract classes and interfaces.\n",
    "\n",
    "Encapsulation, on the other hand, refers to the technique of hiding the internal implementation details of an object from the\n",
    "outside world and restricting access to them. Encapsulation helps to maintain the integrity of an object's state by preventing\n",
    "unauthorized access to its internal data. Encapsulation is achieved through access modifiers (public, private, protected) in\n",
    "classes.\n",
    "\n",
    "Let's consider an example to illustrate the difference between abstraction and encapsulation:\n",
    "\n",
    "Suppose you want to build a car class in an OOP language. The car class can have various properties such as color, make, model,\n",
    "year, speed, etc.\n",
    "\n",
    "Abstraction:\n",
    "To create an abstract class for the car, you can define only the essential properties and methods required to operate a car. \n",
    "For example, you can define a method called 'drive' that accepts a speed parameter and sets the car's speed to that value. \n",
    "The implementation details of how the car's engine works or how the wheels turn are not necessary to be exposed to the user \n",
    "of the car class.\n",
    "\n",
    "Encapsulation:\n",
    "To encapsulate the car's properties and methods, you can make the properties private, so that they cannot be accessed directly\n",
    "from outside the class. You can provide public methods such as 'getSpeed' and 'setSpeed' that can access the private speed \n",
    "property and modify it based on the user's input. This way, you can prevent unauthorized access to the car's internal data and\n",
    "ensure that the car's state is always consistent.\n",
    "\n",
    "In summary, abstraction is about simplifying the representation of an object, while encapsulation is about hiding the internal\n",
    "details of an object and restricting access to them. Both concepts are essential for creating modular and maintainable code in OOP."
   ]
  },
  {
   "cell_type": "code",
   "execution_count": null,
   "id": "237e7e60-c0b7-40ab-b172-d4608de67703",
   "metadata": {},
   "outputs": [],
   "source": [
    "Q3. What is abc module in python? Why is it used?"
   ]
  },
  {
   "cell_type": "code",
   "execution_count": null,
   "id": "2d66fac1-e8ea-45de-a38f-7d460d5e430d",
   "metadata": {},
   "outputs": [],
   "source": [
    "The abc module in Python stands for \"Abstract Base Classes\". It provides a way to define abstract classes in Python, which are\n",
    "classes that cannot be instantiated on their own, but can be subclassed by other classes that provide concrete implementations\n",
    "of their methods.\n",
    "\n",
    "The abc module is used to ensure that a certain interface or behavior is implemented by a subclass. This is useful in situations\n",
    "where you want to define a common API that multiple classes can implement, but you want to ensure that they all implement it in\n",
    "the same way. By defining an abstract base class, you can provide a common set of methods that all subclasses must implement,\n",
    "which helps to ensure that they can be used interchangeably.\n",
    "\n",
    "Here's an example of how you can use the abc module to define an abstract base class:"
   ]
  },
  {
   "cell_type": "code",
   "execution_count": 2,
   "id": "a815f6e6-a074-4af9-972a-f06b03a7df58",
   "metadata": {},
   "outputs": [],
   "source": [
    "from abc import ABC, abstractmethod\n",
    "\n",
    "class Shape(ABC):\n",
    "    @abstractmethod\n",
    "    def area(self):\n",
    "        pass\n",
    "    \n",
    "    @abstractmethod\n",
    "    def perimeter(self):\n",
    "        pass\n"
   ]
  },
  {
   "cell_type": "code",
   "execution_count": null,
   "id": "1197ec0e-e7f3-402d-9c43-3cbc2233eef0",
   "metadata": {},
   "outputs": [],
   "source": [
    "Q4. How can we achieve data abstraction?"
   ]
  },
  {
   "cell_type": "code",
   "execution_count": null,
   "id": "a39db0a2-5c7d-42cd-8330-f0f1217c8955",
   "metadata": {},
   "outputs": [],
   "source": [
    "Encapsulation: Encapsulation is a technique of wrapping the data and methods that operate on that data into a single unit called a\n",
    "class. The data is hidden behind the class interface, and only the methods defined in the class can access or modify that data.\n",
    "\n",
    "Modularity: Modularity is the process of breaking down a complex system into smaller, independent modules that can be developed \n",
    "and tested separately. This helps to simplify the system and make it easier to manage.\n",
    "\n",
    "Data Types: Using different data types can help in data abstraction. For example, instead of representing a person's \n",
    "details using individual variables such as name, age, address, etc., we can create a class called Person that encapsulates\n",
    "these variables.\n",
    "\n",
    "Interfaces: Interfaces define a set of methods that can be used to interact with a class. They provide a way of abstracting the \n",
    "implementation details of a class and exposing only the essential functionality to the user.\n",
    "\n",
    "Abstraction Layers: Abstraction layers provide a way of separating the high-level functionality of a system from the low-level\n",
    "details. By creating multiple layers of abstraction, we can provide different views of the same data to different users based on \n",
    "their needs."
   ]
  },
  {
   "cell_type": "code",
   "execution_count": null,
   "id": "84fba9e9-8b06-4a20-8b81-bfff973636e6",
   "metadata": {},
   "outputs": [],
   "source": []
  },
  {
   "cell_type": "code",
   "execution_count": null,
   "id": "cf2b6ad1-b7fa-4d0b-acae-55d738a0b140",
   "metadata": {},
   "outputs": [],
   "source": []
  },
  {
   "cell_type": "code",
   "execution_count": null,
   "id": "b4540113-754e-4ebf-bdd0-d16d6a8120d2",
   "metadata": {},
   "outputs": [],
   "source": []
  }
 ],
 "metadata": {
  "kernelspec": {
   "display_name": "Python 3 (ipykernel)",
   "language": "python",
   "name": "python3"
  },
  "language_info": {
   "codemirror_mode": {
    "name": "ipython",
    "version": 3
   },
   "file_extension": ".py",
   "mimetype": "text/x-python",
   "name": "python",
   "nbconvert_exporter": "python",
   "pygments_lexer": "ipython3",
   "version": "3.10.8"
  }
 },
 "nbformat": 4,
 "nbformat_minor": 5
}
