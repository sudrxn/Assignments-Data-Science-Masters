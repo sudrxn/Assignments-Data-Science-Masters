{
 "cells": [
  {
   "cell_type": "code",
   "execution_count": null,
   "id": "1e916eaf-3296-4dab-94fe-4b3069d8d190",
   "metadata": {},
   "outputs": [],
   "source": [
    "#ans1\n",
    "\n",
    "import plotly.graph_objects as go\n",
    "\n",
    "import seaborn as sns\n",
    "\n",
    "titanic= sns.load_dataset(\"titanic\")\n",
    "\n",
    "fig= go.Figure()\n",
    "\n",
    "fig.add_trace(go.Scatter(x=titanic.age,y=titanic.fare , mode=\"markers\"))"
   ]
  },
  {
   "cell_type": "code",
   "execution_count": null,
   "id": "398b13af-026b-4bcd-a916-a394ba58f069",
   "metadata": {},
   "outputs": [],
   "source": [
    "#ans2:\n",
    "\n",
    "import plotly.express as px\n",
    "import seaborn as sns\n",
    "\n",
    "# Load the tips dataset from seaborn\n",
    "tips = sns.load_dataset(\"tips\")\n",
    "\n",
    "# Create a box plot using Plotly Express\n",
    "fig = px.box(tips, x=\"day\", y=\"total_bill\", color=\"sex\", notched=True,\n",
    "             title=\"Box Plot of Total Bill Amount by Day and Gender\",\n",
    "             labels={\"day\": \"Day of the Week\", \"total_bill\": \"Total Bill Amount\"})\n",
    "\n",
    "# Show the plot\n",
    "fig.show()"
   ]
  },
  {
   "cell_type": "code",
   "execution_count": 2,
   "id": "c1415ae8-e5d2-4389-b092-ca6eb9b8ae35",
   "metadata": {},
   "outputs": [],
   "source": [
    "#ans3:\n",
    "\n",
    "import plotly.express as px\n",
    "import seaborn as sns\n",
    "tips = sns.load_dataset(\"tips\")\n",
    "fig = px.histogram(\n",
    "    tips,\n",
    "    x=\"sex\",\n",
    "    y=\"total_bill\",\n",
    "    color=\"day\",\n",
    "    pattern_shape=\"smoker\",\n",
    "    marginal=\"rug\",\n",
    "    title=\"graph of total bill vs sex\",\n",
    "    labels={\"sex\":\"genders\",\"total_bill\":\"amount of totall bill\"},\n",
    "    template=\"plotly_white\")\n",
    "fig.show()"
   ]
  },
  {
   "cell_type": "code",
   "execution_count": null,
   "id": "08263fd4-63a2-4f67-b679-80e92c636756",
   "metadata": {},
   "outputs": [],
   "source": [
    "#ans4:\n",
    "\n",
    "import plotly.express as px\n",
    "\n",
    "df = px.data.iris()\n",
    "\n",
    "fig = px.scatter_matrix(df, dimensions=[\"sepal_length\", \"sepal_width\", \"petal_length\", \"petal_width\"])\n",
    "\n",
    "fig.show()"
   ]
  },
  {
   "cell_type": "code",
   "execution_count": null,
   "id": "40948ebb-e4dc-4f7c-878b-cea72973c516",
   "metadata": {},
   "outputs": [],
   "source": [
    "#ans:\n",
    "A distplot is a visualization of the distribution of a variable. It is a combination of a histogram and a \n",
    "kernel density estimate (KDE). The histogram shows the frequency of each value in the variable, while the KDE shows the probability density of each value.\n",
    "\n",
    "To plot a distplot using Plotly Express, you can use the px.distplot() function. This function takes a Pandas DataFrame as its input, and the name of the column that you want to plot. For example, to plot a distplot of the sepal_length column in the iris dataset, you would use the following code:\n"
   ]
  },
  {
   "cell_type": "code",
   "execution_count": null,
   "id": "8cad97c3-43c4-43e6-894f-fbd03f2b967c",
   "metadata": {},
   "outputs": [],
   "source": []
  },
  {
   "cell_type": "code",
   "execution_count": null,
   "id": "3228fc2f-69e4-4135-90dd-6aaa4c2bfbfb",
   "metadata": {},
   "outputs": [],
   "source": []
  },
  {
   "cell_type": "code",
   "execution_count": null,
   "id": "46d68600-07c1-4627-bfe7-895163ceede3",
   "metadata": {},
   "outputs": [],
   "source": []
  },
  {
   "cell_type": "code",
   "execution_count": null,
   "id": "81090643-afab-4aa6-af89-1c0d3ac6602f",
   "metadata": {},
   "outputs": [],
   "source": []
  }
 ],
 "metadata": {
  "kernelspec": {
   "display_name": "Python 3 (ipykernel)",
   "language": "python",
   "name": "python3"
  },
  "language_info": {
   "codemirror_mode": {
    "name": "ipython",
    "version": 3
   },
   "file_extension": ".py",
   "mimetype": "text/x-python",
   "name": "python",
   "nbconvert_exporter": "python",
   "pygments_lexer": "ipython3",
   "version": "3.10.8"
  }
 },
 "nbformat": 4,
 "nbformat_minor": 5
}
