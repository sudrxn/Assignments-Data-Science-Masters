{
 "cells": [
  {
   "cell_type": "code",
   "execution_count": null,
   "id": "d17ea1c8-4546-4d5e-897a-d7fff4b39fc4",
   "metadata": {},
   "outputs": [],
   "source": [
    "Q1. Which function is used to open a file? What are the different modes of opening a file? Explain each mode\n",
    "of file opening."
   ]
  },
  {
   "cell_type": "code",
   "execution_count": null,
   "id": "ae9b150d-9b84-4659-bda3-f7f7324cbe07",
   "metadata": {},
   "outputs": [],
   "source": [
    "In Python, the open() function is used to open a file.\n",
    "\n",
    "The syntax for open() function is:"
   ]
  },
  {
   "cell_type": "code",
   "execution_count": null,
   "id": "0b8f729d-f308-453d-9974-366dd546caf6",
   "metadata": {},
   "outputs": [],
   "source": [
    "file_object = open(file_name, access_mode)\n"
   ]
  },
  {
   "cell_type": "code",
   "execution_count": null,
   "id": "c627b644-930d-40bb-8305-952325eea308",
   "metadata": {},
   "outputs": [],
   "source": [
    "Here, file_name is a string containing the name of the file that you want to open, and access_mode specifies the mode in which the file should be opened.\n",
    "\n",
    "The different modes of opening a file in Python are:\n",
    "Read  Mode ('r'): This is the default mode. In this mode, the file is opened for reading, and you can only read the contents of the\n",
    "      file. If the file does not exist, an error is raised.\n",
    "Write Mode ('w'): In this mode, the file is opened for writing. If the file already exists, its contents are truncated. If the file\n",
    "      does not exist, a new file is created.\n",
    "Append Mode ('a'): In this mode, the file is opened for appending. If the file already exists, new data is written to the end of \n",
    "       the file. If the file does not exist, a new file is created.\n",
    "Binary Mode ('b'): This mode is used when working with binary files, such as images or executable files. It can be used with any \n",
    "       of the above modes.\n",
    "Read and Write Mode ('r+'): In this mode, the file is opened for both reading and writing. If the file does not exist, an error \n",
    "     is raised.\n",
    "Write and Read Mode ('w+'): In this mode, the file is opened for both reading and writing. If the file already exists, its contents\n",
    "     are truncated. If the file does not exist, a new file is created.\n",
    "Append and Read Mode ('a+'): In this mode, the file is opened for both reading and appending. If the file already exists, new data\n",
    "      is written to the end of the file. If the file does not exist, a new file is created.\n",
    "    \n",
    "    \n",
    "Each mode has its own characteristics and is used depending on the requirements of the program."
   ]
  },
  {
   "cell_type": "code",
   "execution_count": null,
   "id": "8d2b34ca-3494-4a04-9b1f-56ae88261192",
   "metadata": {},
   "outputs": [],
   "source": [
    "Q2. Why close() function is used? Why is it important to close a file?"
   ]
  },
  {
   "cell_type": "code",
   "execution_count": null,
   "id": "2b6f51af-bfc9-41d1-b82f-b5d862f68038",
   "metadata": {},
   "outputs": [],
   "source": [
    "ans : close function is used to close a file so that it shows the required result , without closing a  file there will be no output\n",
    "      of the file"
   ]
  },
  {
   "cell_type": "code",
   "execution_count": null,
   "id": "d42b6414-21e3-401d-813a-d92a20a1a62e",
   "metadata": {},
   "outputs": [],
   "source": [
    "Q3. Write a python program to create a text file. Write ‘I want to become a Data Scientist’ in that file. Then\n",
    "close the file. Open this file and read the content of the file."
   ]
  },
  {
   "cell_type": "code",
   "execution_count": 9,
   "id": "eb8906fb-74b4-4408-a0f7-6f4fd14e55b1",
   "metadata": {},
   "outputs": [],
   "source": [
    "file= open(\"text3.txt\",\"w\")"
   ]
  },
  {
   "cell_type": "code",
   "execution_count": 10,
   "id": "bd12af11-3390-4bbc-9e32-b4c2cc8294e8",
   "metadata": {},
   "outputs": [
    {
     "data": {
      "text/plain": [
       "29"
      ]
     },
     "execution_count": 10,
     "metadata": {},
     "output_type": "execute_result"
    }
   ],
   "source": [
    "file.write(\"i want to be a data scientist\")"
   ]
  },
  {
   "cell_type": "code",
   "execution_count": 11,
   "id": "17f00521-3588-4615-949b-768af3358e06",
   "metadata": {},
   "outputs": [],
   "source": [
    "file.close()"
   ]
  },
  {
   "cell_type": "code",
   "execution_count": 12,
   "id": "1936f428-5cb3-4709-a7e2-74814f34d053",
   "metadata": {},
   "outputs": [],
   "source": [
    "file= open(\"text3.txt\",\"r\")"
   ]
  },
  {
   "cell_type": "code",
   "execution_count": 13,
   "id": "bfaf45d4-0f2f-4627-8996-d563fad88b2d",
   "metadata": {},
   "outputs": [
    {
     "data": {
      "text/plain": [
       "'i want to be a data scientist'"
      ]
     },
     "execution_count": 13,
     "metadata": {},
     "output_type": "execute_result"
    }
   ],
   "source": [
    "file.read()"
   ]
  },
  {
   "cell_type": "code",
   "execution_count": null,
   "id": "7155c0a8-f285-4382-b492-fb8a48e7047a",
   "metadata": {},
   "outputs": [],
   "source": [
    "Q4. Explain the following with python code: read(), readline() and readlines()."
   ]
  },
  {
   "cell_type": "code",
   "execution_count": null,
   "id": "93337f4a-c18f-4161-ab8f-97d7496d706c",
   "metadata": {},
   "outputs": [],
   "source": [
    "In Python, read(), readline(), and readlines() are all methods used for reading data from a file. They differ in the amount of data\n",
    "they read and how they return that data.\n",
    "\n",
    "Here is an explanation of each method and how to use them in Python:\n",
    "\n",
    "read(): This method reads the entire content of the file and returns it as a string. It takes an optional argument that specifies\n",
    "        the number of bytes to read. If no argument is provided, it reads the entire file."
   ]
  },
  {
   "cell_type": "code",
   "execution_count": 17,
   "id": "d1970c2d-6b74-4de4-af4f-6011ef443cf1",
   "metadata": {},
   "outputs": [
    {
     "name": "stdout",
     "output_type": "stream",
     "text": [
      "i want to be a data scientist\n"
     ]
    }
   ],
   "source": [
    "# Example of read() method\n",
    "with  open(\"text3.txt\", \"r\") as file:\n",
    "    data = file.read()\n",
    "    print(data)\n"
   ]
  },
  {
   "cell_type": "code",
   "execution_count": null,
   "id": "944c0574-5f65-4fe7-ad50-f1b26966c4d0",
   "metadata": {},
   "outputs": [],
   "source": [
    "readline(): This method reads a single line from the file and returns it as a string. It reads up to and\n",
    "            including  the first newline character (\"\\n\") in the file. If the end of the file is reached,\n",
    "            it returns an empty string."
   ]
  },
  {
   "cell_type": "code",
   "execution_count": 18,
   "id": "19663b07-00e4-4105-b9a9-607b1a47495f",
   "metadata": {},
   "outputs": [
    {
     "name": "stdout",
     "output_type": "stream",
     "text": [
      "i want to be a data scientist\n"
     ]
    }
   ],
   "source": [
    "# Example of readline() method\n",
    "with open(\"text3.txt\", \"r\") as file:\n",
    "    line = file.readline()\n",
    "    while line:\n",
    "        print(line)\n",
    "        line = file.readline()\n"
   ]
  },
  {
   "cell_type": "code",
   "execution_count": null,
   "id": "2ad8a778-7dff-422a-b1cf-51e638ade2e4",
   "metadata": {},
   "outputs": [],
   "source": [
    "readlines(): This method reads all the lines of the file and returns them as a list of strings. \n",
    "             Each element of the list represents a single line, including the newline character at the end of the line."
   ]
  },
  {
   "cell_type": "code",
   "execution_count": 19,
   "id": "4a8e89e9-7e3b-40a3-bc74-15e2de052116",
   "metadata": {},
   "outputs": [
    {
     "name": "stdout",
     "output_type": "stream",
     "text": [
      "i want to be a data scientist\n"
     ]
    }
   ],
   "source": [
    "# Example of readlines() method\n",
    "with open(\"text3.txt\", \"r\") as file:\n",
    "    lines = file.readlines()\n",
    "    for line in lines:\n",
    "        print(line)\n"
   ]
  },
  {
   "cell_type": "code",
   "execution_count": null,
   "id": "1bd964db-a46e-40a8-9fe6-ae9ffd69a8d8",
   "metadata": {},
   "outputs": [],
   "source": [
    "Q5. Explain why with statement is used with open(). What is the advantage of using with statement and\n",
    "open() together?"
   ]
  },
  {
   "cell_type": "code",
   "execution_count": null,
   "id": "6beb53a9-85ec-4a9e-8976-7b1300f2cfff",
   "metadata": {},
   "outputs": [],
   "source": [
    "The with statement in Python is used to create a context in which some resources (such as files or network connections) are acquired\n",
    "before a block of code is executed and automatically released after the block of code is executed. This is done to ensure that the\n",
    "resources are always properly released, even if an exception occurs or the program exits prematurely.\n",
    "\n",
    "The open() function in Python is used to open a file and returns a file object that can be used to read, write, or manipulate the \n",
    "file. When you open a file, you need to make sure to close it after you're done using it to avoid resource leaks.\n",
    "\n",
    "The advantage of using with statement and open() together is that it ensures that the file is automatically closed after the block \n",
    "of code is executed. This means that you don't have to worry about closing the file explicitly, which makes the code cleaner and\n",
    "less error-prone.\n",
    "\n",
    "Here's an example:"
   ]
  },
  {
   "cell_type": "code",
   "execution_count": 21,
   "id": "3b49ce30-ba79-4680-80ae-ba07295ab612",
   "metadata": {},
   "outputs": [],
   "source": [
    "with open('text3.txt', 'r') as f:\n",
    "    data = f.read()\n",
    "    # do something with data\n",
    "\n",
    "# The file is automatically closed after the block is executed\n"
   ]
  },
  {
   "cell_type": "code",
   "execution_count": null,
   "id": "28d3773f-fe2f-420f-a78c-907e60f6b51f",
   "metadata": {},
   "outputs": [],
   "source": [
    "Q6. Explain the write() and writelines() functions. Give a suitable example."
   ]
  },
  {
   "cell_type": "code",
   "execution_count": null,
   "id": "25a3c387-e009-45cb-9284-6b9409e8be6e",
   "metadata": {},
   "outputs": [],
   "source": [
    "In Python, the write() and writelines() functions are used to write text or data to a file.\n",
    "\n",
    "The write() function is used to write a string of text to a file. It takes a single argument, which is the text to be written to \n",
    "the file. If the file does not exist, it will be created.\n",
    "\n",
    "Here's an example:"
   ]
  },
  {
   "cell_type": "code",
   "execution_count": 22,
   "id": "4e8ab073-ebc8-4d39-81c7-831c24a12583",
   "metadata": {},
   "outputs": [],
   "source": [
    "# opening a file in write mode\n",
    "file = open(\"example.txt\", \"w\")\n",
    "\n",
    "# writing some text to the file\n",
    "file.write(\"This is an example text.\\n\")\n",
    "file.write(\"It will be written to the file.\")\n",
    "\n",
    "# closing the file\n",
    "file.close()\n"
   ]
  },
  {
   "cell_type": "code",
   "execution_count": null,
   "id": "eaebd281-0220-457e-81d7-c6fcaa9dfedd",
   "metadata": {},
   "outputs": [],
   "source": []
  }
 ],
 "metadata": {
  "kernelspec": {
   "display_name": "Python 3 (ipykernel)",
   "language": "python",
   "name": "python3"
  },
  "language_info": {
   "codemirror_mode": {
    "name": "ipython",
    "version": 3
   },
   "file_extension": ".py",
   "mimetype": "text/x-python",
   "name": "python",
   "nbconvert_exporter": "python",
   "pygments_lexer": "ipython3",
   "version": "3.10.8"
  }
 },
 "nbformat": 4,
 "nbformat_minor": 5
}
