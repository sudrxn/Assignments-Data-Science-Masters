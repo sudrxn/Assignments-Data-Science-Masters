{
 "cells": [
  {
   "cell_type": "code",
   "execution_count": 1,
   "id": "6d6632f6-890c-4b1c-9355-83ee56a2bdc1",
   "metadata": {},
   "outputs": [
    {
     "name": "stdout",
     "output_type": "stream",
     "text": [
      "F-value: 3.6\n",
      "P-value: 0.0943497728424377\n"
     ]
    }
   ],
   "source": [
    "#asn1:\n",
    "\n",
    "\n",
    "\n",
    "import numpy as np\n",
    "from scipy.stats import f_oneway\n",
    "\n",
    "def calculate_f_value(arr1, arr2):\n",
    "    \"\"\"\n",
    "    Calculate F-value and p-value for variance ratio test.\n",
    "\n",
    "    Parameters:\n",
    "    - arr1: First array of data\n",
    "    - arr2: Second array of data\n",
    "\n",
    "    Returns:\n",
    "    - f_value: F-value for the variance ratio test\n",
    "    - p_value: p-value corresponding to the F-value\n",
    "    \"\"\"\n",
    "\n",
    "    # Perform variance ratio test using scipy.stats.f_oneway\n",
    "    f_value, p_value = f_oneway(arr1, arr2)\n",
    "\n",
    "    return f_value, p_value\n",
    "\n",
    "# Example usage:\n",
    "array1 = np.array([1, 2, 3, 4, 5])\n",
    "array2 = np.array([2, 4, 6, 8, 10])\n",
    "\n",
    "f_value, p_value = calculate_f_value(array1, array2)\n",
    "\n",
    "print(f\"F-value: {f_value}\")\n",
    "print(f\"P-value: {p_value}\")\n"
   ]
  },
  {
   "cell_type": "code",
   "execution_count": 2,
   "id": "81c0aa50-cfb2-41b0-afe7-9215b2b6dcfe",
   "metadata": {},
   "outputs": [
    {
     "name": "stdout",
     "output_type": "stream",
     "text": [
      "Critical F-value: 3.8586986662732143\n"
     ]
    }
   ],
   "source": [
    "#asn2:\n",
    "\n",
    "\n",
    "from scipy.stats import f\n",
    "\n",
    "def critical_f_value(significance_level, df_num, df_denom):\n",
    "    alpha = significance_level / 2  # Two-tailed test, so divide the significance level by 2\n",
    "    critical_value = f.ppf(1 - alpha, df_num, df_denom)\n",
    "    return critical_value\n",
    "\n",
    "# Example usage:\n",
    "significance_level = 0.05\n",
    "df_num = 3\n",
    "df_denom = 20\n",
    "\n",
    "result = critical_f_value(significance_level, df_num, df_denom)\n",
    "print(f\"Critical F-value: {result}\")\n"
   ]
  },
  {
   "cell_type": "code",
   "execution_count": 3,
   "id": "504d3800-f49d-4bfb-a092-725132668d5b",
   "metadata": {},
   "outputs": [
    {
     "name": "stdout",
     "output_type": "stream",
     "text": [
      "F-value: 2.4081636671276785\n",
      "Degrees of freedom (numerator): 29\n",
      "Degrees of freedom (denominator): 29\n",
      "P-value: 0.02087559545078621\n"
     ]
    }
   ],
   "source": [
    "#asn3:\n",
    "\n",
    "import numpy as np\n",
    "from scipy.stats import f\n",
    "\n",
    "def f_test(sample1, sample2):\n",
    "    var1 = np.var(sample1, ddof=1)  # calculate sample variance for sample1\n",
    "    var2 = np.var(sample2, ddof=1)  # calculate sample variance for sample2\n",
    "    \n",
    "    if var1 > var2:\n",
    "        f_statistic = var1 / var2\n",
    "        df_num = len(sample1) - 1\n",
    "        df_den = len(sample2) - 1\n",
    "    else:\n",
    "        f_statistic = var2 / var1\n",
    "        df_num = len(sample2) - 1\n",
    "        df_den = len(sample1) - 1\n",
    "    \n",
    "    p_value = 2 * min(f.cdf(f_statistic, df_num, df_den), 1 - f.cdf(f_statistic, df_num, df_den))\n",
    "    \n",
    "    return f_statistic, df_num, df_den, p_value\n",
    "\n",
    "# Generate random samples from two normal distributions\n",
    "np.random.seed(42)\n",
    "sample1 = np.random.normal(loc=0, scale=1, size=30)\n",
    "sample2 = np.random.normal(loc=0, scale=1.5, size=30)\n",
    "\n",
    "# Perform F-test\n",
    "f_statistic, df_num, df_den, p_value = f_test(sample1, sample2)\n",
    "\n",
    "# Output the results\n",
    "print(f\"F-value: {f_statistic}\")\n",
    "print(f\"Degrees of freedom (numerator): {df_num}\")\n",
    "print(f\"Degrees of freedom (denominator): {df_den}\")\n",
    "print(f\"P-value: {p_value}\")\n"
   ]
  },
  {
   "cell_type": "markdown",
   "id": "cc01adb7-ced3-441f-b3e5-90a42854c73c",
   "metadata": {},
   "source": [
    "#asn4:\n",
    "\n",
    " In a nutshell:\n",
    "\n",
    "To conduct an F-test for comparing variances at a 5% significance level:\n",
    "\n",
    "1. Set up hypotheses:\n",
    "   - Null hypothesis (H0): Variances are equal (σ₁² = σ₂²)\n",
    "   - Alternative hypothesis (H1): Variances are significantly different (σ₁² ≠ σ₂²)\n",
    "\n",
    "2. Calculate the F-statistic:\n",
    "   - F = (s₁² / s₂²), where s₁² is the sample variance of the first population, and s₂² is the sample variance of the second population.\n",
    "\n",
    "3. Determine critical value:\n",
    "   - Refer to the F-distribution table with degrees of freedom (df₁ = n₁ - 1, df₂ = n₂ - 1) at a 5% significance level.\n",
    "\n",
    "4. Compare F-statistic and critical value:\n",
    "   - If the F-statistic is greater than the critical value, reject the null hypothesis.\n",
    "\n",
    "In this case, you would use the given population variances (10 and 15) as approximations for sample variances, compute the F-statistic, compare it to the critical value from the F-distribution table, and make a decision about the null hypothesis."
   ]
  },
  {
   "cell_type": "markdown",
   "id": "f9bedf39-9c0a-4b6b-8d31-a01f9b10464e",
   "metadata": {},
   "source": [
    "#asn5:\n",
    "\n",
    "Certainly! In an F-test, we compare the sample variance to the claimed population variance. Here's a simplified step-by-step explanation:\n",
    "\n",
    "1. **Hypotheses:**\n",
    "   - Null Hypothesis (H₀): The claimed variance is correct.\n",
    "   - Alternative Hypothesis (H₁): The claimed variance is not correct.\n",
    "\n",
    "2. **Significance Level:**\n",
    "   - Given a 1% significance level (α = 0.01).\n",
    "\n",
    "3. **F-Test Formula:**\n",
    "   - \\( F = \\frac{S^2}{\\sigma^2} \\)\n",
    "     - \\( S^2 \\) is the sample variance.\n",
    "     - \\( \\sigma^2 \\) is the claimed population variance.\n",
    "\n",
    "4. **Calculate F-Statistic:**\n",
    "   - \\( F = \\frac{0.006}{0.005} \\)\n",
    "\n",
    "5. **Degrees of Freedom:**\n",
    "   - For the numerator, degrees of freedom = sample size - 1.\n",
    "   - For the denominator, degrees of freedom = sample size - 1.\n",
    "\n",
    "6. **Critical Value:**\n",
    "   - Look up the critical F-value for the degrees of freedom at a 1% significance level.\n",
    "\n",
    "7. **Compare:**\n",
    "   - If the calculated F-statistic is greater than the critical F-value, reject the null hypothesis.\n",
    "\n",
    "8. **Conclusion:**\n",
    "   - Make a decision based on the comparison. If you reject the null hypothesis, it suggests that the claimed variance is not justified.\n",
    "\n",
    "Remember, in this case, you're checking if the sample variance is significantly different from the claimed population variance. If it is, the manufacturer's claim may not be justified.\n"
   ]
  },
  {
   "cell_type": "code",
   "execution_count": 4,
   "id": "32286984-3992-47dd-a4b1-f12a2aae224c",
   "metadata": {},
   "outputs": [
    {
     "name": "stdout",
     "output_type": "stream",
     "text": [
      "Mean: 1.5\n",
      "Variance: 5.25\n"
     ]
    }
   ],
   "source": [
    "#asn6:\n",
    "\n",
    "\n",
    "def f_distribution_mean_variance(df_numerator, df_denominator):\n",
    "    mean = df_denominator / (df_denominator - 2)\n",
    "    variance = (2 * (df_denominator ** 2) * (df_numerator + df_denominator - 2)) / (df_numerator * (df_denominator - 2) ** 2 * (df_denominator - 4))\n",
    "    return mean, variance\n",
    "df_numerator = 3\n",
    "df_denominator = 6\n",
    "\n",
    "result = f_distribution_mean_variance(df_numerator, df_denominator)\n",
    "\n",
    "print(f\"Mean: {result[0]}\")\n",
    "print(f\"Variance: {result[1]}\")\n"
   ]
  },
  {
   "cell_type": "markdown",
   "id": "38fef3f0-e2f3-4421-83f0-40a6ab1ee264",
   "metadata": {},
   "source": [
    "#asn7:\n",
    "\n",
    "\n",
    "To conduct an F-test for comparing variances, you can use the following steps:\n",
    "\n",
    "1. **State the Hypotheses:**\n",
    "   - Null Hypothesis (\\(H_0\\)): The variances are equal (\\(\\sigma_1^2 = \\sigma_2^2\\))\n",
    "   - Alternative Hypothesis (\\(H_1\\)): The variances are not equal (\\(\\sigma_1^2 \\neq \\sigma_2^2\\))\n",
    "\n",
    "2. **Select the Significance Level:**\n",
    "   - Given: 10% significance level (\\(\\alpha = 0.10\\))\n",
    "\n",
    "3. **Identify the Test Statistic:**\n",
    "   - F-test for comparing variances: \\(F = \\frac{s_1^2}{s_2^2}\\), where \\(s_1^2\\) and \\(s_2^2\\) are the sample variances.\n",
    "\n",
    "4. **Determine the Critical Region:**\n",
    "   - Find the critical value(s) from the F-distribution table at the chosen significance level and degrees of freedom.\n",
    "\n",
    "5. **Calculate the Test Statistic:**\n",
    "   - Plug in the sample variances into the formula to get the test statistic \\(F\\).\n",
    "\n",
    "6. **Make a Decision:**\n",
    "   - If the calculated \\(F\\) is in the critical region, reject the null hypothesis. Otherwise, fail to reject the null hypothesis.\n",
    "\n",
    "In summary, at a 10% significance level, if the calculated \\(F\\) falls into the critical region, you would conclude that the variances are significantly different. If not, you would not have enough evidence to suggest a significant difference in variances."
   ]
  },
  {
   "cell_type": "markdown",
   "id": "532ad388-07c7-4ffe-9649-1929b9442d68",
   "metadata": {},
   "source": [
    "#ans8:\n",
    "\n",
    "To conduct an F-test for comparing the variances of two samples, you can follow these steps:\n",
    "\n",
    "1. Define the null hypothesis (H0) and alternative hypothesis (H1):\n",
    "   - H0: Var(A) = Var(B) (The variances of waiting times at both restaurants are equal)\n",
    "   - H1: Var(A) ≠ Var(B) (The variances of waiting times at both restaurants are not equal)\n",
    "\n",
    "2. Calculate the sample variances (s^2) for each restaurant.\n",
    "\n",
    "3. Calculate the F-statistic using the formula:\n",
    "   \\[ F = \\frac{s_1^2}{s_2^2} \\]\n",
    "\n",
    "4. Determine the degrees of freedom for each sample (\\( df_1 \\) and \\( df_2 \\)):\n",
    "   - \\( df_1 = n_1 - 1 \\) (where \\( n_1 \\) is the number of observations in sample A)\n",
    "   - \\( df_2 = n_2 - 1 \\) (where \\( n_2 \\) is the number of observations in sample B)\n",
    "\n",
    "5. Determine the critical F-value at the 5% significance level and compare it with the calculated F-statistic.\n",
    "\n",
    "Here are the calculations:\n",
    "\n",
    "For Restaurant A:\n",
    "- \\( n_1 = 7 \\)\n",
    "- \\( df_1 = 7 - 1 = 6 \\)\n",
    "- \\( s_1^2 = \\frac{\\sum (X_i - \\bar{X}_1)^2}{n_1 - 1} \\)\n",
    "   \\( s_1^2 = \\frac{(24-23.57)^2 + (25-23.57)^2 + \\ldots + (27-23.57)^2}{6} \\)\n",
    "   \\( s_1^2 \\approx 7.19 \\)\n",
    "\n",
    "For Restaurant B:\n",
    "- \\( n_2 = 6 \\)\n",
    "- \\( df_2 = 6 - 1 = 5 \\)\n",
    "- \\( s_2^2 = \\frac{\\sum (X_i - \\bar{X}_2)^2}{n_2 - 1} \\)\n",
    "   \\( s_2^2 = \\frac{(31-32.83)^2 + (33-32.83)^2 + \\ldots + (36-32.83)^2}{5} \\)\n",
    "   \\( s_2^2 \\approx 6.97 \\)\n",
    "\n",
    "Now, calculate the F-statistic:\n",
    "\\[ F = \\frac{7.19}{6.97} \\approx 1.03 \\]\n",
    "\n",
    "Now, you need to compare this F-statistic with the critical F-value from an F-distribution table with \\( df_1 = 6 \\) and \\( df_2 = 5 \\) at the 5% significance level.\n",
    "\n",
    "If the calculated F-statistic is greater than the critical F-value, you reject the null hypothesis, indicating that the variances are significantly different. If it's less than the critical value, you fail to reject the null hypothesis.\n",
    "\n",
    "Please refer to an F-distribution table or use statistical software to find the critical F-value. If you don't have access to statistical software or a table, I recommend using online calculators or statistical tools.\n"
   ]
  },
  {
   "cell_type": "code",
   "execution_count": null,
   "id": "6ba484b0-451b-4a48-9de7-1205e9a8cf6a",
   "metadata": {},
   "outputs": [],
   "source": [
    "#asn9:\n",
    "\n",
    "\n"
   ]
  },
  {
   "cell_type": "code",
   "execution_count": null,
   "id": "6d17166f-d41e-4fa6-96bf-69b61c50fd06",
   "metadata": {},
   "outputs": [],
   "source": []
  },
  {
   "cell_type": "code",
   "execution_count": null,
   "id": "0ab9c266-e913-4359-bbc5-bb5054908d63",
   "metadata": {},
   "outputs": [],
   "source": []
  },
  {
   "cell_type": "code",
   "execution_count": null,
   "id": "725a86ca-2d98-4093-8931-fbb188dc61bb",
   "metadata": {},
   "outputs": [],
   "source": []
  },
  {
   "cell_type": "code",
   "execution_count": null,
   "id": "d6ea0388-5b0a-4b80-b1c3-4a1e015bfd4e",
   "metadata": {},
   "outputs": [],
   "source": []
  },
  {
   "cell_type": "code",
   "execution_count": null,
   "id": "f3a3ce4d-a86e-4308-b2a7-75d85368277b",
   "metadata": {},
   "outputs": [],
   "source": []
  },
  {
   "cell_type": "code",
   "execution_count": null,
   "id": "daff9112-1d47-4a29-a36b-98d811072a70",
   "metadata": {},
   "outputs": [],
   "source": []
  },
  {
   "cell_type": "code",
   "execution_count": null,
   "id": "9221229f-05a7-4a11-9b11-9f557a52391e",
   "metadata": {},
   "outputs": [],
   "source": []
  },
  {
   "cell_type": "code",
   "execution_count": null,
   "id": "06edd7a6-6333-4b14-be86-52742dfc637f",
   "metadata": {},
   "outputs": [],
   "source": []
  },
  {
   "cell_type": "code",
   "execution_count": null,
   "id": "785c4341-61db-498d-9eb4-3970420b20c9",
   "metadata": {},
   "outputs": [],
   "source": []
  }
 ],
 "metadata": {
  "kernelspec": {
   "display_name": "Python 3 (ipykernel)",
   "language": "python",
   "name": "python3"
  },
  "language_info": {
   "codemirror_mode": {
    "name": "ipython",
    "version": 3
   },
   "file_extension": ".py",
   "mimetype": "text/x-python",
   "name": "python",
   "nbconvert_exporter": "python",
   "pygments_lexer": "ipython3",
   "version": "3.10.8"
  }
 },
 "nbformat": 4,
 "nbformat_minor": 5
}
