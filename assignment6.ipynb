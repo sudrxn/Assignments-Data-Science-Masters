{
 "cells": [
  {
   "cell_type": "code",
   "execution_count": 4,
   "id": "1e42b917-ca8e-4be9-9d1c-221e29b90e77",
   "metadata": {},
   "outputs": [
    {
     "name": "stdin",
     "output_type": "stream",
     "text": [
      "enter the number you get 82\n"
     ]
    },
    {
     "name": "stdout",
     "output_type": "stream",
     "text": [
      "you get B grade\n"
     ]
    }
   ],
   "source": [
    "Q1. write a python program to accept the percentage from the user and display according to the following criteria\n"
   ]
  },
  {
   "cell_type": "code",
   "execution_count": 5,
   "id": "2cedce74-d5fe-4d72-bb50-788cfbc8fabc",
   "metadata": {},
   "outputs": [
    {
     "name": "stdin",
     "output_type": "stream",
     "text": [
      "Enter your percentage:  82\n"
     ]
    },
    {
     "name": "stdout",
     "output_type": "stream",
     "text": [
      "Your grade is B\n"
     ]
    }
   ],
   "source": [
    "percentage = float(input(\"Enter your percentage: \"))\n",
    "\n",
    "if percentage >= 90:\n",
    "    print(\"Your grade is A\")\n",
    "elif percentage >80 and percentage<=90:\n",
    "    print(\"Your grade is B\")\n",
    "elif percentage >= 60 and percentage <=80:\n",
    "    print(\"Your grade is C\")\n",
    "elif percentage < 60:\n",
    "    print(\"Your grade is D\")\n",
    "else:\n",
    "    print(\"Sorry, you have failed the exam.\")\n"
   ]
  },
  {
   "cell_type": "code",
   "execution_count": null,
   "id": "1ad9e386-7f10-490d-a8b7-8002035b0f78",
   "metadata": {},
   "outputs": [],
   "source": [
    "Q2. write a programm to accept the cost price of a bike and display the road tax to paid according to the following criteria:-"
   ]
  },
  {
   "cell_type": "code",
   "execution_count": 9,
   "id": "e6e4c50f-e3c1-46f2-bb73-7f8613146dcb",
   "metadata": {},
   "outputs": [
    {
     "name": "stdin",
     "output_type": "stream",
     "text": [
      "enter the cost price of a bike 7500000\n"
     ]
    },
    {
     "name": "stdout",
     "output_type": "stream",
     "text": [
      "tax to be paid is 15%\n"
     ]
    }
   ],
   "source": [
    "cost_price = float(input(\"enter the cost price of a bike\"))\n",
    "\n",
    "if cost_price > 100000:\n",
    "    print(\"tax to be paid is 15%\")\n",
    "elif cost_price >50000 and cost_price<=100000:\n",
    "    print(\"tax to be paid is 10%\")\n",
    "elif cost_price <=50000:\n",
    "    print(\"tax to be paid is 10%\")\n",
    "else:\n",
    "    print(\"vehicle is tax free!!\")\n",
    "    "
   ]
  },
  {
   "cell_type": "code",
   "execution_count": null,
   "id": "d8c9deb9-63fb-465a-97f1-9cb7c4192ad7",
   "metadata": {},
   "outputs": [],
   "source": [
    "Q3.  write a python program accept any city from the user and dispaly the monument according to that."
   ]
  },
  {
   "cell_type": "code",
   "execution_count": 15,
   "id": "81efa6d7-061f-4ae7-85a3-729cb15822c1",
   "metadata": {},
   "outputs": [
    {
     "name": "stdin",
     "output_type": "stream",
     "text": [
      "Enter a city name:  delhi\n"
     ]
    },
    {
     "name": "stdout",
     "output_type": "stream",
     "text": [
      "The Red fort is located in Delhi.\n"
     ]
    }
   ],
   "source": [
    "city = input(\"Enter a city name: \")\n",
    "\n",
    "if city.lower() == \"delhi\":\n",
    "    print(\"The Red fort is located in Delhi.\")\n",
    "elif city.lower() == \"agra\":\n",
    "    print(\"The Taj Mahal is located in Agra.\")\n",
    "elif city.lower() == \"jaipur\":\n",
    "    print(\"The Jal Mahal is located in Jaipur.\")\n",
    "else:\n",
    "    print(\"Sorry, we don't have information about any monument located in that city.\")\n"
   ]
  },
  {
   "cell_type": "code",
   "execution_count": null,
   "id": "0aeaf02a-50f5-4806-9bb4-36593bd057fc",
   "metadata": {},
   "outputs": [],
   "source": [
    "Q4. write a python program check how many times a given number can be divided by 3 before it is less than or equal to 10"
   ]
  },
  {
   "cell_type": "code",
   "execution_count": 18,
   "id": "dbcaaadb-aefd-4b43-a346-3f470cb86d5c",
   "metadata": {},
   "outputs": [
    {
     "name": "stdin",
     "output_type": "stream",
     "text": [
      "enter the number 103\n"
     ]
    },
    {
     "name": "stdout",
     "output_type": "stream",
     "text": [
      "the given number is 3 times divisible\n"
     ]
    }
   ],
   "source": [
    "number = int(input(\"enter the number\"))\n",
    "count =0\n",
    "while number>10:\n",
    "    number = number/3\n",
    "    count+=1\n",
    "print(\"the given number is\",count,\"times divisible\" )"
   ]
  },
  {
   "cell_type": "code",
   "execution_count": null,
   "id": "aaab2f86-33cf-4999-9416-75ad60ae91a9",
   "metadata": {},
   "outputs": [],
   "source": [
    "Q5. why and when to use the while loop in the python give a detailed answer with example:-"
   ]
  },
  {
   "cell_type": "code",
   "execution_count": null,
   "id": "4637e0c8-653a-454c-b701-cb88314bb34d",
   "metadata": {},
   "outputs": [],
   "source": [
    "In Python, a while loop is used to repeatedly execute a block of code as long as a certain condition is met. The while loop is\n",
    "useful when you want to iterate through a block of code multiple times without having to copy and paste the code over and over\n",
    "again.\n",
    "\n",
    "The syntax for a while loop in Python is as follows:"
   ]
  },
  {
   "cell_type": "code",
   "execution_count": null,
   "id": "81c3311d-dd45-474c-a5ec-d999b85324f4",
   "metadata": {},
   "outputs": [],
   "source": [
    "while condition:\n",
    "    # code block to execute while condition is True\n",
    "    \n",
    "    \n",
    "    The condition in the while loop should be a boolean expression, which is evaluated before each iteration of the loop.\n",
    "    If the condition is True, the code block inside the loop is executed, and then the condition is checked again.\n",
    "    This process continues until the condition becomes False.\n",
    "\n",
    "    Here's an example of a while loop in Python:\n"
   ]
  },
  {
   "cell_type": "code",
   "execution_count": 1,
   "id": "139fc8dd-08c6-43f3-8b83-6ebbd600e2f8",
   "metadata": {},
   "outputs": [
    {
     "name": "stdout",
     "output_type": "stream",
     "text": [
      "Count is: 0\n",
      "Count is: 1\n",
      "Count is: 2\n",
      "Count is: 3\n",
      "Count is: 4\n",
      "Done!\n"
     ]
    }
   ],
   "source": [
    "count = 0\n",
    "\n",
    "while count < 5:\n",
    "    print(\"Count is:\", count)\n",
    "    count += 1\n",
    "\n",
    "print(\"Done!\")\n"
   ]
  },
  {
   "cell_type": "code",
   "execution_count": null,
   "id": "cb9122c4-788f-4bc7-8af0-f05b910b499a",
   "metadata": {},
   "outputs": [],
   "source": [
    "Q6. Use nested while loop to print 3 different pattern ."
   ]
  },
  {
   "cell_type": "code",
   "execution_count": 2,
   "id": "ee0f13af-a7fa-4889-9faf-4b8c9d5d7f54",
   "metadata": {},
   "outputs": [
    {
     "name": "stdout",
     "output_type": "stream",
     "text": [
      "*\n",
      "**\n",
      "***\n",
      "****\n",
      "*****\n"
     ]
    }
   ],
   "source": [
    "i = 1\n",
    "while i <= 5:\n",
    "    j = 1\n",
    "    while j <= i:\n",
    "        print(\"*\", end=\"\")\n",
    "        j += 1\n",
    "    print()\n",
    "    i += 1\n"
   ]
  },
  {
   "cell_type": "code",
   "execution_count": 3,
   "id": "495d7a9b-8a27-46f0-9346-090a15e31a05",
   "metadata": {},
   "outputs": [
    {
     "name": "stdout",
     "output_type": "stream",
     "text": [
      "1\n",
      "22\n",
      "333\n",
      "4444\n",
      "55555\n"
     ]
    }
   ],
   "source": [
    "i = 1\n",
    "while i <= 5:\n",
    "    j = 1\n",
    "    while j <= i:\n",
    "        print(i, end=\"\")\n",
    "        j += 1\n",
    "    print()\n",
    "    i += 1\n"
   ]
  },
  {
   "cell_type": "code",
   "execution_count": 4,
   "id": "dc96c35d-a00f-432a-ae5c-fe1b1b25c571",
   "metadata": {},
   "outputs": [
    {
     "name": "stdout",
     "output_type": "stream",
     "text": [
      "1\n",
      "23\n",
      "456\n",
      "78910\n"
     ]
    }
   ],
   "source": [
    "i = 1\n",
    "num = 1\n",
    "while i <= 4:\n",
    "    j = 1\n",
    "    while j <= i:\n",
    "        print(num, end=\"\")\n",
    "        j += 1\n",
    "        num += 1\n",
    "    print()\n",
    "    i += 1\n"
   ]
  },
  {
   "cell_type": "code",
   "execution_count": null,
   "id": "2979b9da-43ba-452a-aa23-58d1ffec1d24",
   "metadata": {},
   "outputs": [],
   "source": [
    "Q7.reverse a while loop to display numbers from 1 to 10 in python"
   ]
  },
  {
   "cell_type": "code",
   "execution_count": 5,
   "id": "44a53c6e-3077-4041-b926-f421d1af2d7f",
   "metadata": {},
   "outputs": [
    {
     "name": "stdout",
     "output_type": "stream",
     "text": [
      "10\n",
      "9\n",
      "8\n",
      "7\n",
      "6\n",
      "5\n",
      "4\n",
      "3\n",
      "2\n",
      "1\n"
     ]
    }
   ],
   "source": [
    "i = 10\n",
    "while i >= 1:\n",
    "    print(i)\n",
    "    i -= 1\n"
   ]
  },
  {
   "cell_type": "code",
   "execution_count": null,
   "id": "b241e253-dda9-4058-8f5b-76ba836bc43a",
   "metadata": {},
   "outputs": [],
   "source": []
  }
 ],
 "metadata": {
  "kernelspec": {
   "display_name": "Python 3 (ipykernel)",
   "language": "python",
   "name": "python3"
  },
  "language_info": {
   "codemirror_mode": {
    "name": "ipython",
    "version": 3
   },
   "file_extension": ".py",
   "mimetype": "text/x-python",
   "name": "python",
   "nbconvert_exporter": "python",
   "pygments_lexer": "ipython3",
   "version": "3.10.8"
  }
 },
 "nbformat": 4,
 "nbformat_minor": 5
}
